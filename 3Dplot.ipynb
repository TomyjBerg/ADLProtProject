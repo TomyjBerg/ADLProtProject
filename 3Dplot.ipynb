{
 "cells": [
  {
   "cell_type": "markdown",
   "metadata": {},
   "source": [
    "### Load Data"
   ]
  },
  {
   "cell_type": "code",
   "execution_count": 1,
   "metadata": {},
   "outputs": [],
   "source": [
    "import torch\n",
    "import torch.nn.functional as F\n",
    "import torch_geometric.transforms as T\n",
    "from torch_geometric.loader import DenseDataLoader\n",
    "from torch_geometric.loader import DataLoader \n",
    "from torch_geometric.nn import GCNConv, global_max_pool, global_mean_pool, global_add_pool\n",
    "from torch_geometric.utils import dense_to_sparse\n",
    "import math\n",
    "import numpy as np"
   ]
  },
  {
   "cell_type": "code",
   "execution_count": 2,
   "metadata": {},
   "outputs": [],
   "source": [
    "data_dir_1 = 'C:/Users/david/pyproj/pyg/adl/patch_label_1'\n",
    "data_dir_0 = 'C:/Users/david/pyproj/pyg/adl/patch_label_0'\n",
    "#data_dir_1 = 'adl_data_1'\n",
    "#data_dir_0 = 'adl_data_0'"
   ]
  },
  {
   "cell_type": "code",
   "execution_count": 3,
   "metadata": {},
   "outputs": [
    {
     "data": {
      "text/plain": [
       "572"
      ]
     },
     "execution_count": 3,
     "metadata": {},
     "output_type": "execute_result"
    }
   ],
   "source": [
    "from c_PatchDataset_sparse import PatchDataset\n",
    "dataset = PatchDataset(data_dir_label_0 = data_dir_0,  data_dir_label_1=data_dir_1,  neg_pos_ratio=1)\n",
    "len(dataset)"
   ]
  },
  {
   "cell_type": "code",
   "execution_count": 4,
   "metadata": {},
   "outputs": [
    {
     "name": "stdout",
     "output_type": "stream",
     "text": [
      "Number of graphs pairs: 572\n",
      "(Data(x=[100, 3], edge_index=[2, 616], y=1), Data(x=[100, 3], edge_index=[2, 602], y=1))\n"
     ]
    }
   ],
   "source": [
    "print(f'Number of graphs pairs: {len(dataset)}')\n",
    "data = dataset[0]  # Get the first graph object.\n",
    "print(data)"
   ]
  },
  {
   "cell_type": "code",
   "execution_count": 5,
   "metadata": {},
   "outputs": [],
   "source": [
    "graph_dataset= []\n",
    "for data in dataset:\n",
    "    graph_dataset.append(data[0])\n",
    "    graph_dataset.append(data[1])"
   ]
  },
  {
   "cell_type": "code",
   "execution_count": 6,
   "metadata": {},
   "outputs": [
    {
     "data": {
      "text/plain": [
       "[Data(x=[100, 3], edge_index=[2, 616], y=1),\n",
       " Data(x=[100, 3], edge_index=[2, 602], y=1),\n",
       " Data(x=[100, 3], edge_index=[2, 606], y=1),\n",
       " Data(x=[100, 3], edge_index=[2, 620], y=1),\n",
       " Data(x=[100, 3], edge_index=[2, 616], y=1),\n",
       " Data(x=[100, 3], edge_index=[2, 610], y=1)]"
      ]
     },
     "execution_count": 6,
     "metadata": {},
     "output_type": "execute_result"
    }
   ],
   "source": [
    "graph_dataset[0:6]"
   ]
  },
  {
   "cell_type": "code",
   "execution_count": 7,
   "metadata": {},
   "outputs": [],
   "source": [
    "from torch_geometric.data import Data\n",
    "\n",
    "pair_data = []\n",
    "couple_loader = DataLoader(dataset = graph_dataset, batch_size=2, shuffle=False)\n",
    "\n",
    "for couple in couple_loader:\n",
    "    y = couple.y[0].long()\n",
    "    couple_graph = Data(x=couple.x, edge_index=couple.edge_index, y=y, original_batch = couple.batch)\n",
    "    pair_data.append(couple_graph)"
   ]
  },
  {
   "cell_type": "code",
   "execution_count": 8,
   "metadata": {},
   "outputs": [
    {
     "data": {
      "text/plain": [
       "[Data(x=[200, 3], edge_index=[2, 1218], y=1, original_batch=[200]),\n",
       " Data(x=[200, 3], edge_index=[2, 1226], y=1, original_batch=[200]),\n",
       " Data(x=[200, 3], edge_index=[2, 1226], y=1, original_batch=[200]),\n",
       " Data(x=[200, 3], edge_index=[2, 1200], y=0, original_batch=[200]),\n",
       " Data(x=[200, 3], edge_index=[2, 1218], y=1, original_batch=[200]),\n",
       " Data(x=[200, 3], edge_index=[2, 1226], y=0, original_batch=[200])]"
      ]
     },
     "execution_count": 8,
     "metadata": {},
     "output_type": "execute_result"
    }
   ],
   "source": [
    "pair_data[0:6]"
   ]
  },
  {
   "cell_type": "code",
   "execution_count": 9,
   "metadata": {},
   "outputs": [],
   "source": [
    "batch_size = 1\n",
    "\n",
    "dataloader = DataLoader(dataset = pair_data, batch_size= batch_size, shuffle=False)\n"
   ]
  },
  {
   "cell_type": "code",
   "execution_count": 10,
   "metadata": {},
   "outputs": [],
   "source": [
    "label0_data = []\n",
    "label1_data = []"
   ]
  },
  {
   "cell_type": "code",
   "execution_count": 11,
   "metadata": {},
   "outputs": [],
   "source": [
    "for data in dataloader: \n",
    "    difference = torch.sum(data.x[:100], dim= 0) - torch.sum(data.x[100:], dim= 0)\n",
    "    label = data.y.item()\n",
    "\n",
    "    if label == 1: \n",
    "        label1_data.append(difference.tolist())\n",
    "    else:\n",
    "        label0_data.append(difference.tolist())\n",
    "\n"
   ]
  },
  {
   "cell_type": "code",
   "execution_count": 12,
   "metadata": {},
   "outputs": [
    {
     "data": {
      "text/plain": [
       "286"
      ]
     },
     "execution_count": 12,
     "metadata": {},
     "output_type": "execute_result"
    }
   ],
   "source": [
    "len(label0_data)"
   ]
  },
  {
   "cell_type": "code",
   "execution_count": 13,
   "metadata": {},
   "outputs": [
    {
     "data": {
      "text/plain": [
       "286"
      ]
     },
     "execution_count": 13,
     "metadata": {},
     "output_type": "execute_result"
    }
   ],
   "source": [
    "len(label1_data)"
   ]
  },
  {
   "cell_type": "code",
   "execution_count": 14,
   "metadata": {},
   "outputs": [
    {
     "data": {
      "text/plain": [
       "572"
      ]
     },
     "execution_count": 14,
     "metadata": {},
     "output_type": "execute_result"
    }
   ],
   "source": [
    "merged = label1_data + label0_data\n",
    "len(merged)"
   ]
  },
  {
   "cell_type": "code",
   "execution_count": 15,
   "metadata": {},
   "outputs": [],
   "source": [
    "merged = np.asarray(merged)"
   ]
  },
  {
   "cell_type": "code",
   "execution_count": 16,
   "metadata": {},
   "outputs": [],
   "source": [
    "colors = np.zeros_like(merged)\n",
    "\n",
    "colors[:286] = [1,0,0]\n",
    "colors[286:] = [0,0,1]"
   ]
  },
  {
   "cell_type": "code",
   "execution_count": 17,
   "metadata": {},
   "outputs": [
    {
     "name": "stdout",
     "output_type": "stream",
     "text": [
      "Jupyter environment detected. Enabling Open3D WebVisualizer.\n",
      "[Open3D INFO] WebRTC GUI backend enabled.\n",
      "[Open3D INFO] WebRTCWindowSystem: HTTP handshake server disabled.\n",
      "[Open3D WARNING] GLFW Error: WGL: Failed to make context current: The handle is invalid. \n",
      "[Open3D WARNING] GLFW Error: WGL: Failed to make context current: The requested transformation operation is not supported. \n"
     ]
    }
   ],
   "source": [
    "from f_visualize_pointcloud import visualize_pointcloud\n",
    "\n",
    "visualize_pointcloud(merged, colors=colors)"
   ]
  },
  {
   "cell_type": "code",
   "execution_count": 20,
   "metadata": {},
   "outputs": [
    {
     "ename": "AttributeError",
     "evalue": "'Axes3DSubplot' object has no attribute 'xlabel'",
     "output_type": "error",
     "traceback": [
      "\u001b[1;31m---------------------------------------------------------------------------\u001b[0m",
      "\u001b[1;31mAttributeError\u001b[0m                            Traceback (most recent call last)",
      "Cell \u001b[1;32mIn [20], line 19\u001b[0m\n\u001b[0;32m     16\u001b[0m ax\u001b[39m.\u001b[39mscatter(x1, y1, z1)\n\u001b[0;32m     17\u001b[0m ax\u001b[39m.\u001b[39mscatter(x0, y0, z0)\n\u001b[1;32m---> 19\u001b[0m ax\u001b[39m.\u001b[39;49mxlabel(\u001b[39m'\u001b[39m\u001b[39mxlabel\u001b[39m\u001b[39m'\u001b[39m, fontsize\u001b[39m=\u001b[39m\u001b[39m18\u001b[39m)\n\u001b[0;32m     21\u001b[0m ax\u001b[39m.\u001b[39mset(xticklabels\u001b[39m=\u001b[39m[],\n\u001b[0;32m     22\u001b[0m        yticklabels\u001b[39m=\u001b[39m[],\n\u001b[0;32m     23\u001b[0m        zticklabels\u001b[39m=\u001b[39m[])\n\u001b[0;32m     25\u001b[0m plt\u001b[39m.\u001b[39mshow()\n",
      "\u001b[1;31mAttributeError\u001b[0m: 'Axes3DSubplot' object has no attribute 'xlabel'"
     ]
    },
    {
     "data": {
      "image/png": "[encoded data removed]",
      "text/plain": [
       "<Figure size 200x200 with 1 Axes>"
      ]
     },
     "metadata": {},
     "output_type": "display_data"
    }
   ],
   "source": [
    "import matplotlib.pyplot as plt\n",
    "import numpy as np\n",
    "\n",
    "plt.style.use('_mpl-gallery')\n",
    "\n",
    "x1 = merged[:286,0]\n",
    "y1 = merged[:286,1]\n",
    "z1 = merged[:286,2]\n",
    "\n",
    "x0 = merged[286:,0]\n",
    "y0 = merged[286:,1]\n",
    "z0 = merged[286:,2]\n",
    "\n",
    "# Plot\n",
    "fig, ax = plt.subplots(subplot_kw={\"projection\": \"3d\"})\n",
    "ax.scatter(x1, y1, z1)\n",
    "ax.scatter(x0, y0, z0)\n",
    "\n",
    "ax.xlabel('xlabel', fontsize=18)\n",
    "\n",
    "ax.set(xticklabels=[],\n",
    "       yticklabels=[],\n",
    "       zticklabels=[])\n",
    "\n",
    "plt.show()"
   ]
  },
  {
   "attachments": {},
   "cell_type": "markdown",
   "metadata": {},
   "source": [
    "### Define Loss Function"
   ]
  },
  {
   "cell_type": "code",
   "execution_count": null,
   "metadata": {},
   "outputs": [],
   "source": [
    "class ContrastiveLoss(torch.nn.Module):\n",
    "\n",
    "    def __init__(self, margin=1.0):\n",
    "        super(ContrastiveLoss, self).__init__()\n",
    "        self.margin = margin\n",
    "\n",
    "    def forward(self, x0, x1, y):\n",
    "\n",
    "        diff = x0 - x1\n",
    "        pow = torch.pow(diff, 2)\n",
    "        dist_sq = torch.sum(pow, 0)\n",
    "        dist = torch.sqrt(dist_sq) \n",
    "        mdist = self.margin - dist #negative euclidean distance - margin\n",
    "        dist_marg = torch.clamp(mdist, min=0.0) # only distances <margin will be still positive here\n",
    "        loss =  y * torch.pow(dist, 2) + (1-y) * torch.pow(dist_marg,2)\n",
    "        \n",
    "        #             Margin = 1            Margin = 2.0        Margin = 3.0\n",
    "        # dist = 0.2  label 1 --> 0.04      --> 0.04            --> 0.04\n",
    "        # dist = 0.2  label 0 --> 0.64      --> 3.24            --> 7.84\n",
    "        #\n",
    "        # dist = 0.5  label 1 --> 0.25      --> 0.25            --> 0.25\n",
    "        # dist = 0.5  label 0 --> 0.25      --> 2.25            --> 6.25\n",
    "        # \n",
    "        # dist = 1.0  label 1 --> 1.0       --> 1.0             --> 1.0 \n",
    "        # dist = 1.0  label 0 --> 0         --> 1.0             --> 4.0\n",
    "        #\n",
    "        # dist = 1.5  label 1 --> 2.25      --> 2.25            --> 2.25\n",
    "        # dist = 1.5  label 0 --> 0         --> 0.25            --> 2.25\n",
    "        # \n",
    "        # dist = 3    label 1 --> 9         --> 9               --> 9\n",
    "        # dist = 3    label 0 --> 0         --> 0               --> 0\n",
    "\n",
    "        #loss = loss / 2.0\n",
    "        return loss"
   ]
  },
  {
   "cell_type": "markdown",
   "metadata": {},
   "source": [
    "### Define Network"
   ]
  },
  {
   "cell_type": "code",
   "execution_count": null,
   "metadata": {},
   "outputs": [],
   "source": [
    "class GNN(torch.nn.Module):\n",
    "    def __init__(self, in_channels, hidden_channels, out_channels,\n",
    "                 normalize=False, lin=True):\n",
    "        super(GNN, self).__init__()\n",
    "\n",
    "        self.conv1 = GCNConv(in_channels, hidden_channels, normalize)\n",
    "        self.conv2 = GCNConv(hidden_channels, hidden_channels, normalize)\n",
    "        self.conv3 = GCNConv(hidden_channels, out_channels, normalize)\n",
    "\n",
    "\n",
    "    def forward(self, x, edge_index):\n",
    "        \n",
    "        x = self.conv1(x, edge_index)\n",
    "        x = self.conv2(x, edge_index)\n",
    "        x = self.conv3(x, edge_index)\n",
    "\n",
    "        return x\n",
    "\n",
    "\n",
    "class ConvNet(torch.nn.Module):\n",
    "    def __init__(self):\n",
    "        super(ConvNet, self).__init__()\n",
    "\n",
    "        self.gnn1 = GNN(dataset.num_features, 8, 8)\n",
    "        self.gnn2 = GNN(8, 16, 16, lin=False)\n",
    "        self.gnn3 = GNN(16, 32, 32, lin=False)\n",
    "\n",
    "        self.lin1 = torch.nn.Linear(32, 64)\n",
    "        #self.lin2 = torch.nn.Linear(64, 128)\n",
    "\n",
    "\n",
    "    def forward(self, x, adj, batch):\n",
    "        \n",
    "        x = self.gnn1(x, adj)\n",
    "        x = self.gnn2(x, adj)\n",
    "        x = self.gnn3(x, adj)\n",
    "\n",
    "        #x = global_max_pool(x, batch)\n",
    "        x = global_mean_pool(x, batch)\n",
    "        #x = global_add_pool(x, batch)\n",
    "\n",
    "        x = F.relu(self.lin1(x))\n",
    "        #x = F.relu(self.lin2(x))\n",
    "\n",
    "        return x"
   ]
  },
  {
   "cell_type": "code",
   "execution_count": null,
   "metadata": {},
   "outputs": [],
   "source": [
    "def count_parameters(model, trainable=True):\n",
    "    return sum(p.numel() for p in model.parameters() if p.requires_grad or not trainable)"
   ]
  },
  {
   "attachments": {},
   "cell_type": "markdown",
   "metadata": {},
   "source": [
    "### Training"
   ]
  },
  {
   "cell_type": "code",
   "execution_count": null,
   "metadata": {},
   "outputs": [],
   "source": [
    "device = torch.device('cuda' if torch.cuda.is_available() else 'cpu')\n",
    "print(device)\n",
    "model = ConvNet().to(device)\n",
    "criterion = ContrastiveLoss()\n",
    "optimizer = torch.optim.Adam(model.parameters(), lr=0.0001)\n",
    "\n",
    "\n",
    "\n",
    "def train(epoch):\n",
    "    model.train()\n",
    "    loss_all = 0\n",
    "    for data in train_loader:\n",
    "        data = data.to(device)\n",
    "        optimizer.zero_grad()\n",
    "        output = model(data.x, data.edge_index, data.original_batch)\n",
    "        \n",
    "        # Contrastive Loss\n",
    "        loss_contrastive = 0\n",
    "        # Iterate over the pairs in one batch and compute the loss for each pair\n",
    "        for j, i in enumerate(range(0, output.shape[0], 2)):\n",
    "            loss = criterion(output[i], output[i+1], data.y[j])\n",
    "            loss_contrastive += loss\n",
    "        loss_contrastive = loss_contrastive/batch_size\n",
    "\n",
    "        loss_contrastive.backward()\n",
    "        loss_all += loss_contrastive.item()\n",
    "        optimizer.step()\n",
    "\n",
    "    return loss_all# / len(train_dataset)\n",
    "\n",
    "\n",
    "\n",
    "@torch.no_grad()\n",
    "def test(loader):\n",
    "    model.eval()\n",
    "\n",
    "    distances_lab1 = []\n",
    "    distances_lab0 = []\n",
    "    loss_all = 0\n",
    "    for data in loader:\n",
    "        data = data.to(device)\n",
    "        output = model(data.x, data.edge_index, data.original_batch)\n",
    "\n",
    "        # Contrastive Loss\n",
    "        # Iterate over the pairs in one batch and compute the loss for each pair\n",
    "        for j, i in enumerate(range(0, output.shape[0], 2)):\n",
    "            loss = criterion(output[i], output[i+1], data.y[j])\n",
    "            euclidean_distance = F.pairwise_distance(output[i], output[i+1])\n",
    "            label = data.y[j]\n",
    "\n",
    "            if int(label) == 1: \n",
    "                distances_lab1.append(float(euclidean_distance))\n",
    "                loss_all += float(loss)\n",
    "            else:\n",
    "                distances_lab0.append(float(euclidean_distance))\n",
    "                loss_all += float(loss)\n",
    "\n",
    "    return  distances_lab0, distances_lab1, loss_all/(len(loader)*batch_size)\n",
    "\n",
    "\n",
    "\n",
    "# Initialize data collections\n",
    "#==============================================================================================================================\n",
    "train_distances_lab0 = []\n",
    "train_distances_lab1 = []\n",
    "train_losses = []\n",
    "\n",
    "validation_distances_lab0 = []\n",
    "validation_distances_lab1 = []\n",
    "validation_losses = []\n",
    "\n",
    "test_distances_lab0 = []\n",
    "test_distances_lab1 = []\n",
    "test_losses = []\n",
    "\n",
    "val_dists_0 = []\n",
    "val_dists_1 = []\n",
    "train_dists_0 = []\n",
    "train_dists_1 = []\n",
    "\n",
    "parameters = count_parameters(model)\n",
    "with open(f'{model_name}_printout.txt', 'w') as f:\n",
    "    f.write(f'Training Data ({model_name}):\\n')\n",
    "    f.write(f'Number of Parameters: {parameters}\\n')\n",
    "    f.close()\n",
    "#==============================================================================================================================\n",
    "\n",
    "\n",
    "\n",
    "# Test and Validation Data before Training\n",
    "#==============================================================================================================================\n",
    "train_results = test(train_loader)\n",
    "train_distances_lab0.append(train_results[0])\n",
    "train_distances_lab1.append(train_results[1])\n",
    "train_losses.append(train_results[2])\n",
    "\n",
    "validation_results = test(val_loader)\n",
    "validation_distances_lab0.append(validation_results[0])\n",
    "validation_distances_lab1.append(validation_results[1])\n",
    "validation_losses.append(validation_results[2])\n",
    "\n",
    "test_results = test(test_loader)\n",
    "test_distances_lab0.append(test_results[0])\n",
    "test_distances_lab1.append(test_results[1])\n",
    "test_losses.append(test_results[2])\n",
    "\n",
    "min_val_loss = (validation_results[2]+test_results[2])/2\n",
    "#==============================================================================================================================\n",
    "\n",
    "\n",
    "\n",
    "# Compute Euclidean Distances for printout\n",
    "#==============================================================================================================================\n",
    "val_dist_0 = test_results[0] + validation_results[0] # List of all euclidean distances of label 0 members of val and test dataset\n",
    "val_dist_1 = test_results[1] + validation_results[1] # List of all euclidean distances of label 1 members of val and test dataset\n",
    "# Ratio (mean label 0 euclid dist in validation set / mean label 1 euclid dist in validation set)\n",
    "val_dist_ratio = (sum(val_dist_0) / len(val_dist_0)) / (sum(val_dist_1) / len(val_dist_1))\n",
    "best_dist_ratio = val_dist_ratio\n",
    "val_dists_0.append(sum(val_dist_0) / len(val_dist_0))\n",
    "val_dists_1.append(sum(val_dist_1) / len(val_dist_1))\n",
    "\n",
    "train_dist_0 = train_results[0] # List of all euclidean distances of label 0 members of train dataset\n",
    "train_dist_1 = train_results[1] # List of all euclidean distances of label 0 members of train dataset\n",
    "# Ratio of (mean label 0 euclid dist in training set / mean label 1 euclid dist in training set)\n",
    "train_dist_ratio = (sum(train_dist_0) / len(train_dist_0)) / (sum(train_dist_1) / len(train_dist_1))\n",
    "train_dists_0.append(sum(train_dist_0) / len(train_dist_0))\n",
    "train_dists_1.append(sum(train_dist_1) / len(train_dist_1))\n",
    "#===============================================================================================================================\n",
    "\n",
    "#printout = (f'Before Tr:  Train Loss: {train_results[2]:.3f}, Val Loss: {validation_results[2]:.3f}, Test Loss: {test_results[2]:.3f}, '\n",
    "#            f'ValDist 0: {val_dist_0:.3f}, ValDist 1: {val_dist_1:.3f}, TrainDist 0: {train_dist_0:.3f}, TrainDist 1: {train_dist_1:.3f}')\n",
    "\n",
    "printout = (f'Before Tr:  Train Loss: {train_results[2]:.3f}, Val Loss: {validation_results[2]:.3f}, Test Loss: {test_results[2]:.3f}, '\n",
    "            f'ValDistanceRatio (L0/L1): {(val_dist_ratio):.3f}, TrainDistanceRatio (L0/L1): {(train_dist_ratio):.3f}')\n",
    "\n",
    "print(printout)\n",
    "\n",
    "# append to outputs txt\n",
    "with open(f'{model_name}_printout.txt', 'a') as f:\n",
    "        f.write(printout + '\\n')\n",
    "        f.close()\n",
    "\n",
    "\n",
    "\n",
    "#===============================================================================================================================================\n",
    "# Training\n",
    "#===============================================================================================================================================\n",
    "\n",
    "for epoch in range(1, num_epochs+1):\n",
    "    train_loss = train(epoch)\n",
    "\n",
    "\n",
    "    # Test and Validation Data During Training\n",
    "    #===============================================================================================================================================\n",
    "    train_results = test(train_loader)\n",
    "    train_distances_lab0.append(train_results[0])\n",
    "    train_distances_lab1.append(train_results[1])\n",
    "    train_losses.append(train_results[2])\n",
    "\n",
    "    validation_results = test(val_loader)\n",
    "    validation_distances_lab0.append(validation_results[0])\n",
    "    validation_distances_lab1.append(validation_results[1])\n",
    "    validation_losses.append(validation_results[2])\n",
    "\n",
    "    test_results = test(test_loader)\n",
    "    test_distances_lab0.append(test_results[0])\n",
    "    test_distances_lab1.append(test_results[1])\n",
    "    test_losses.append(test_results[2])\n",
    "\n",
    "    #===============================================================================================================================================\n",
    "\n",
    "\n",
    "\n",
    "    # Compute Euclidean Distances for printout\n",
    "    #==============================================================================================================================\n",
    "    val_dist_0 = test_results[0]+validation_results[0] # List of all euclidean distances of label 0 members of val and test dataset\n",
    "    val_dist_1 = test_results[1]+validation_results[1] # List of all euclidean distances of label 1 members of val and test dataset\n",
    "    # Ratio (mean label 0 euclid dist in validation set / mean label 1 euclid dist in validation set)\n",
    "    val_dist_ratio = (sum(val_dist_0) / len(val_dist_0)) / (sum(val_dist_1) / len(val_dist_1))\n",
    "    val_dists_0.append(sum(val_dist_0) / len(val_dist_0))\n",
    "    val_dists_1.append(sum(val_dist_1) / len(val_dist_1))\n",
    "\n",
    "    train_dist_0 = train_results[0] # List of all euclidean distances of label 0 members of train dataset\n",
    "    train_dist_1 = train_results[1] # List of all euclidean distances of label 0 members of train dataset\n",
    "    # Ratio of (mean label 0 euclid dist in training set / mean label 1 euclid dist in training set)\n",
    "    train_dist_ratio = (sum(train_dist_0) / len(train_dist_0)) / (sum(train_dist_1) / len(train_dist_1))\n",
    "    train_dists_0.append(sum(train_dist_0) / len(train_dist_0))\n",
    "    train_dists_1.append(sum(train_dist_1) / len(train_dist_1))\n",
    "    #===============================================================================================================================\n",
    "    \n",
    "\n",
    "\n",
    "    # Create Printout\n",
    "    #===============================================================================================================================================\n",
    "    #printout = (f'Epoch: {epoch:03d}, Train Loss: {train_results[2]:.3f}, Val Loss: {validation_results[2]:.3f}, Test Loss: {test_results[2]:.3f}, '\n",
    "    #        f'ValDist 0: {val_dist_0:.3f}, ValDist 1: {val_dist_1:.3f}, TrainDist 0: {train_dist_0:.3f}, TrainDist 1: {train_dist_1:.3f}')\n",
    "    printout = (f'Epoch: {epoch:03d}, Train Loss: {train_results[2]:.3f}, Val Loss: {validation_results[2]:.3f}, Test Loss: {test_results[2]:.3f}, '\n",
    "            f'ValDistanceRatio (L0/L1): {(val_dist_ratio):.3f}, TrainDistanceRatio (L0/L1): {(train_dist_ratio):.3f}')\n",
    "    print(printout)\n",
    "\n",
    "    # append to outputs txt\n",
    "    with open(f'{model_name}_printout.txt', 'a') as f:\n",
    "        f.write(printout + '\\n')\n",
    "        f.close()\n",
    "    #===============================================================================================================================================\n",
    "\n",
    "\n",
    "\n",
    "    # Save the model outputs\n",
    "    #===============================================================================================================================================\n",
    "    np.save(f'{model_name}_training_loss.npy', train_losses, allow_pickle=True)\n",
    "    np.save(f'{model_name}_training_distances_lab0.npy', train_distances_lab0, allow_pickle=True)\n",
    "    np.save(f'{model_name}_training_distances_lab1.npy', train_distances_lab1, allow_pickle=True)\n",
    "\n",
    "    np.save(f'{model_name}_validation_loss.npy', validation_losses, allow_pickle=True)\n",
    "    np.save(f'{model_name}_validation_distances_lab0.npy', validation_distances_lab0, allow_pickle=True)\n",
    "    np.save(f'{model_name}_validation_distances_lab1.npy', validation_distances_lab1, allow_pickle=True)\n",
    "\n",
    "    np.save(f'{model_name}_test_loss.npy', test_losses, allow_pickle=True)\n",
    "    np.save(f'{model_name}_test_distances_lab0.npy', test_distances_lab0, allow_pickle=True)\n",
    "    np.save(f'{model_name}_test_distances_lab1.npy', test_distances_lab1, allow_pickle=True)\n",
    "    \n",
    "    last_saved_epoch = epoch\n",
    "    #===============================================================================================================================================\n",
    "\n",
    "\n",
    "\n",
    "    # If the epoch has improved the model, save it\n",
    "    if val_dist_ratio > best_dist_ratio:\n",
    "        new_best = True\n",
    "        best_dist_ratio = val_dist_ratio\n",
    "        best_epoch = epoch\n",
    "    else:\n",
    "        new_best = False\n",
    "        \n",
    "    if new_best:\n",
    "        torch.save(model.state_dict(), f'{model_name}_state_dict_best.pt')\n",
    "        torch.save(model, f'{model_name}_save.pt')\n",
    "    \n"
   ]
  },
  {
   "attachments": {},
   "cell_type": "markdown",
   "metadata": {},
   "source": [
    "### Evaluation"
   ]
  },
  {
   "cell_type": "code",
   "execution_count": null,
   "metadata": {},
   "outputs": [],
   "source": [
    "best_epoch, last_saved_epoch"
   ]
  },
  {
   "cell_type": "code",
   "execution_count": null,
   "metadata": {},
   "outputs": [],
   "source": [
    "import matplotlib.pyplot as plt\n",
    "\n",
    "def compare_euclid_distances(distances_lab0, distances_lab1, save=None, title=None):\n",
    "\n",
    "    w = 0.8    # bar width\n",
    "    x = [1, 2] # x-coordinates of your bars\n",
    "    colors = [(0, 0, 1, 1), (1, 0, 0, 1)]    # corresponding colors\n",
    "\n",
    "    # Epoch 0\n",
    "    y = [distances_lab0, distances_lab1]\n",
    "\n",
    "\n",
    "    fig, ax = plt.subplots()\n",
    "    ax.bar(x,\n",
    "        height=[np.mean(yi) for yi in y],\n",
    "        yerr=[np.std(yi) for yi in y],    # error bars\n",
    "        capsize=12, # error bar cap width in points\n",
    "        width=w,    # bar width\n",
    "        tick_label=[\"Label 0\", \"Label 1\"],\n",
    "        color=(0,0,0,0),  # face color transparent\n",
    "        edgecolor=colors,\n",
    "        )\n",
    "\n",
    "    for i in range(len(x)):\n",
    "        # distribute scatter randomly across whole width of bar\n",
    "        ax.scatter(x[i] + np.random.random(len(y[i])) * w - w / 2, y[i], color=colors[i])\n",
    "\n",
    "    plt.title(title)\n",
    "    #plt.ylabel('Euclidean Distance')\n",
    "    plt.ylim(top=1.5, bottom=0)\n",
    "    \n",
    "    if save != None:\n",
    "        plt.savefig(save)\n",
    "    plt.show()\n"
   ]
  },
  {
   "cell_type": "code",
   "execution_count": null,
   "metadata": {},
   "outputs": [],
   "source": [
    "compare_euclid_distances(train_distances_lab0[0], train_distances_lab1[0], save = model_name + '_plot_train_dist0.png', title = 'Training Distances Epoch 0')\n",
    "compare_euclid_distances(train_distances_lab0[best_epoch], train_distances_lab1[best_epoch], save = model_name + f'_plot_train_dist_{best_epoch}', title = f'Training Distances Epoch {best_epoch}')"
   ]
  },
  {
   "cell_type": "code",
   "execution_count": null,
   "metadata": {},
   "outputs": [],
   "source": [
    "compare_euclid_distances(validation_distances_lab0[0], validation_distances_lab1[0], save = model_name + '_plot_val_dist0.png', title = 'Validation Distances Epoch 0')\n",
    "compare_euclid_distances(validation_distances_lab0[best_epoch], validation_distances_lab1[best_epoch], save = model_name + f'_plot_val_dist_{best_epoch}', title = f'Validation Distances Epoch {best_epoch}')"
   ]
  },
  {
   "cell_type": "code",
   "execution_count": null,
   "metadata": {},
   "outputs": [],
   "source": [
    "import matplotlib.pyplot as plt\n",
    "\n",
    "# Generate a sequence of integers to represent the epoch numbers\n",
    "epochs = range(1, last_saved_epoch+2)\n",
    " \n",
    "# Plot and label the training and validation loss values\n",
    "plt.plot(epochs, train_losses, label='Training Loss')\n",
    "plt.plot(epochs, validation_losses, label='Validation Loss')\n",
    "plt.plot(epochs, test_losses, label='Test Loss')\n",
    " \n",
    "# Add in a title and axes labels\n",
    "plt.title('Training and Validation Loss')\n",
    "plt.xlabel('Epochs')\n",
    " \n",
    "# Set the tick locations\n",
    "plt.xticks(np.arange(0, last_saved_epoch+1, last_saved_epoch/10))\n",
    " \n",
    "# Display the plot\n",
    "plt.legend(loc='best')\n",
    "plt.savefig(f'{model_name}_plot_loss.png')\n",
    "#plt.ylim(top=60, bottom = 0)\n",
    "plt.show()\n"
   ]
  },
  {
   "cell_type": "code",
   "execution_count": null,
   "metadata": {},
   "outputs": [],
   "source": [
    "import matplotlib.pyplot as plt\n",
    "\n",
    "# Generate a sequence of integers to represent the epoch numbers\n",
    "epochs = range(1, last_saved_epoch+2)\n",
    " \n",
    "# Plot and label the training and validation loss values\n",
    "plt.plot(epochs, train_dists_0, label='Training Distances Label 0')\n",
    "plt.plot(epochs, train_dists_1, label='Training Distances Label 1')\n",
    " \n",
    "# Add in a title and axes labels\n",
    "plt.title('Training Euclidean Distances')\n",
    "plt.xlabel('Epochs')\n",
    " \n",
    "# Set the tick locations\n",
    "plt.xticks(np.arange(0, last_saved_epoch+1, last_saved_epoch/10))\n",
    " \n",
    "# Display the plot\n",
    "plt.legend(loc='best')\n",
    "plt.savefig(f'{model_name}_plot_train_distances.png')\n",
    "#plt.ylim(top=60, bottom = 0)\n",
    "plt.show()"
   ]
  },
  {
   "cell_type": "code",
   "execution_count": null,
   "metadata": {},
   "outputs": [],
   "source": [
    "import matplotlib.pyplot as plt\n",
    "\n",
    "# Generate a sequence of integers to represent the epoch numbers\n",
    "epochs = range(1, last_saved_epoch+2)\n",
    " \n",
    "# Plot and label the training and validation loss values\n",
    "plt.plot(epochs, val_dists_0, label='Validation Distances Label 0')\n",
    "plt.plot(epochs, val_dists_1, label='Validation Distances Label 1')\n",
    " \n",
    "# Add in a title and axes labels\n",
    "plt.title('Validation Euclidean Distances')\n",
    "plt.xlabel('Epochs')\n",
    " \n",
    "# Set the tick locations\n",
    "plt.xticks(np.arange(0, last_saved_epoch+1, last_saved_epoch/10))\n",
    " \n",
    "# Display the plot\n",
    "plt.legend(loc='best')\n",
    "plt.savefig(f'{model_name}_plot_val_distances.png')\n",
    "#plt.ylim(top=60, bottom = 0)\n",
    "plt.show()"
   ]
  }
 ],
 "metadata": {
  "kernelspec": {
   "display_name": "pyg_env",
   "language": "python",
   "name": "python3"
  },
  "language_info": {
   "codemirror_mode": {
    "name": "ipython",
    "version": 3
   },
   "file_extension": ".py",
   "mimetype": "text/x-python",
   "name": "python",
   "nbconvert_exporter": "python",
   "pygments_lexer": "ipython3",
   "version": "3.9.13"
  },
  "orig_nbformat": 4,
  "vscode": {
   "interpreter": {
    "hash": "5295f743bc4e47f7cb4c7d5e484c5cf6bb52e824ff35c3fecf2642e2b62ae0ab"
   }
  }
 },
 "nbformat": 4,
 "nbformat_minor": 2
}
