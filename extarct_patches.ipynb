{
 "cells": [
  {
   "cell_type": "code",
   "execution_count": 1,
   "metadata": {},
   "outputs": [],
   "source": [
    "# Load required packages.\n",
    "import os\n",
    "import torch\n",
    "import numpy as np\n",
    "import pandas as pd\n",
    "\n",
    "from plyfile import PlyData, PlyElement\n",
    "from helper_functions import load_object, save_object\n"
   ]
  },
  {
   "cell_type": "code",
   "execution_count": 2,
   "metadata": {},
   "outputs": [],
   "source": [
    "#path = 'C:/Users/thoma/Desktop/ZHAW MLS/David prod/ADLProtProject/surface'\n",
    "path = 'C:/Users/david/pyproj/pyg/adl/surfaces'"
   ]
  },
  {
   "cell_type": "code",
   "execution_count": 3,
   "metadata": {},
   "outputs": [],
   "source": [
    "#List file on so \n",
    "from os import walk\n",
    "def list_files(mpath):\n",
    "  f = []\n",
    "  for (dirpath, dirnames, filenames) in walk(mpath):\n",
    "      f.extend(filenames)\n",
    "      break\n",
    "  return(f)"
   ]
  },
  {
   "cell_type": "code",
   "execution_count": 4,
   "metadata": {},
   "outputs": [
    {
     "ename": "FileNotFoundError",
     "evalue": "[WinError 3] The system cannot find the path specified: 'C:/Users/david/pyproj/pyg/adl/surfaces'",
     "output_type": "error",
     "traceback": [
      "\u001b[1;31m---------------------------------------------------------------------------\u001b[0m",
      "\u001b[1;31mFileNotFoundError\u001b[0m                         Traceback (most recent call last)",
      "Cell \u001b[1;32mIn [4], line 2\u001b[0m\n\u001b[0;32m      1\u001b[0m \u001b[39m# I think this would do the trick\u001b[39;00m\n\u001b[1;32m----> 2\u001b[0m files_ply \u001b[39m=\u001b[39m os\u001b[39m.\u001b[39;49mlistdir(path)\n",
      "\u001b[1;31mFileNotFoundError\u001b[0m: [WinError 3] The system cannot find the path specified: 'C:/Users/david/pyproj/pyg/adl/surfaces'"
     ]
    }
   ],
   "source": [
    "# I think this would do the trick\n",
    "files_ply = os.listdir(path)"
   ]
  },
  {
   "cell_type": "code",
   "execution_count": null,
   "metadata": {},
   "outputs": [],
   "source": [
    "def read_ply_file(folder_path,file_name,requirement):\n",
    "\n",
    "    plydata = PlyData.read(folder_path + '/' + file_name)\n",
    "    \n",
    "    feature = pd.DataFrame(plydata.elements[0].data)\n",
    "    vertex_indices = pd.DataFrame(plydata.elements[1].data)\n",
    "\n",
    "    if requirement == 'feature':\n",
    "        return feature\n",
    "    if requirement == 'vertex':\n",
    "        return vertex_indices\n",
    "    if requirement == 'plyfile':\n",
    "        return plydata\n",
    "    if requirement == 'all' :\n",
    "        return [feature,vertex_indices]"
   ]
  },
  {
   "cell_type": "code",
   "execution_count": null,
   "metadata": {},
   "outputs": [
    {
     "name": "stdout",
     "output_type": "stream",
     "text": [
      "[]\n",
      "[]\n"
     ]
    }
   ],
   "source": [
    "def read_ply_folder(folder_path):\n",
    "\n",
    "    files_ply = list_files(path)\n",
    "    features_prot = [read_ply_file(folder_path,ply_name,'feature')  for ply_name in files_ply]\n",
    "    vertex_indices = [read_ply_file(folder_path,ply_name,'vertex')  for ply_name in files_ply]\n",
    "    \n",
    "    return features_prot,vertex_indices,files_ply\n",
    "\n",
    "\n",
    "def complex_separation(files_ply,df):\n",
    "    \n",
    "    complexes_names = []\n",
    "    complexes = []\n",
    "    uniq_names= []\n",
    "    for f in files_ply :\n",
    "        sh = f.find('_')\n",
    "        val = f[0:sh]\n",
    "        if val not in uniq_names:\n",
    "            uniq_names.append(val)\n",
    "    for name in uniq_names:\n",
    "        prot = []\n",
    "        prot_names = []\n",
    "        max_len = 0\n",
    "\n",
    "        for i in range(len(files_ply)):\n",
    "            sh = files_ply[i].find('_')\n",
    "            val = files_ply[i][0:sh]\n",
    "            if name == val:\n",
    "                us = len(files_ply[i])\n",
    "                len_c = len(files_ply[i][sh:us])\n",
    "                if len_c > max_len:\n",
    "                    prot.append(df[i])\n",
    "                    prot_names.append(files_ply[i])\n",
    "                    max_len = len_c\n",
    "                else:\n",
    "                    prot.insert(0,df[i])\n",
    "                    prot_names.insert(0,files_ply[i])\n",
    "\n",
    "        complexes.append(prot)\n",
    "        complexes_names.append(prot_names)\n",
    "        \n",
    "    return  complexes,complexes_names\n",
    "        \n",
    "            \n",
    "\n",
    "feature,vetex,ply_files = read_ply_folder(path)\n",
    "complexes_feature,complexes_names = complex_separation(ply_files,feature)\n",
    "print(complexes_names)\n",
    "print(feature)"
   ]
  },
  {
   "cell_type": "code",
   "execution_count": null,
   "metadata": {},
   "outputs": [],
   "source": [
    "from c_ProteinGraph import ProteinGraph\n",
    "from torch_geometric.utils import dense_to_sparse\n",
    "\n",
    "source_dir = path\n",
    "dest_dir = 'C:/Users/david/pyproj/pyg/adl/surfaces_graphs'\n",
    "\n",
    "for complex in complexes_names: \n",
    "\n",
    "    if len(complex) != 3: # Check if there are three files of the complex\n",
    "        continue\n",
    "    else:\n",
    "        for file in complex[0:2]: # only do it for the subunits, not for the complex\n",
    "            name = file[0:-4]\n",
    "\n",
    "            if f'{name}.pkl' not in os.listdir(dest_dir): #Only do it for proteins that are not yet in source dir\n",
    "\n",
    "                features, edges = read_ply_file(path, file,'all')\n",
    "                    \n",
    "                pos = features.loc[:,[\"x\",\"y\",\"z\"]].to_numpy()\n",
    "\n",
    "                features = features.loc[:,[\"charge\",\"hbond\",\"hphob\", \"iface\", 'nx', 'ny', 'nz']]\n",
    "\n",
    "                    \n",
    "                ## Translate edges into a adjacency matrix and then edge_index\n",
    "                triangles = np.asarray([list(triangle[0]) for _,triangle in edges.iterrows()])\n",
    "                n_nodes = pos.shape[0]\n",
    "                adj = np.identity(n_nodes)\n",
    "                for n1, n2, n3 in triangles:\n",
    "                        \n",
    "                    # edge1\n",
    "                    adj[n1][n2] = 1\n",
    "                    adj[n2][n1] = 1 # set location in adj = 1\n",
    "\n",
    "                    #edge2\n",
    "                    adj[n1][n3] = 1\n",
    "                    adj[n3][n1] = 1\n",
    "\n",
    "                    #edge3\n",
    "                    adj[n2][n3] = 1\n",
    "                    adj[n3][n2] = 1\n",
    "\n",
    "                adj = torch.from_numpy(adj)\n",
    "                edge_index, _ = dense_to_sparse(adj)\n",
    "\n",
    "\n",
    "                protein = ProteinGraph(features=features, pos=pos, edge_index=edge_index, name=name)\n",
    "                save_object(protein, dest_dir + f'/{name}.pkl')"
   ]
  },
  {
   "cell_type": "code",
   "execution_count": 4,
   "metadata": {},
   "outputs": [
    {
     "ename": "NameError",
     "evalue": "name 'list_files' is not defined",
     "output_type": "error",
     "traceback": [
      "\u001b[1;31m---------------------------------------------------------------------------\u001b[0m",
      "\u001b[1;31mNameError\u001b[0m                                 Traceback (most recent call last)",
      "Cell \u001b[1;32mIn [4], line 5\u001b[0m\n\u001b[0;32m      1\u001b[0m \u001b[39mfrom\u001b[39;00m \u001b[39mc_ProteinGraph\u001b[39;00m \u001b[39mimport\u001b[39;00m ProteinGraph\n\u001b[0;32m      3\u001b[0m path \u001b[39m=\u001b[39m \u001b[39m'\u001b[39m\u001b[39mC:/Users/thoma/OneDrive - ZHAW/ProteinSurfaces/surfaces_graphs\u001b[39m\u001b[39m'\u001b[39m\n\u001b[1;32m----> 5\u001b[0m files_graph_name \u001b[39m=\u001b[39m list_files(path)\n\u001b[0;32m      6\u001b[0m files_graph \u001b[39m=\u001b[39m []\n\u001b[0;32m      9\u001b[0m \u001b[39mfor\u001b[39;00m f \u001b[39min\u001b[39;00m files_graph_name:\n",
      "\u001b[1;31mNameError\u001b[0m: name 'list_files' is not defined"
     ]
    }
   ],
   "source": [
    "from c_ProteinGraph import ProteinGraph\n",
    "\n",
    "path = 'C:/Users/thoma/OneDrive - ZHAW/ProteinSurfaces/surfaces_graphs'\n",
    "\n",
    "files_graph_name = list_files(path)\n",
    "files_graph = []\n",
    "\n",
    "\n",
    "for f in files_graph_name:\n",
    "    files_graph.append(load_object(path + '/' + f))\n",
    "\n",
    "print(files_graph[45])\n",
    "\n",
    "\n",
    " \n"
   ]
  },
  {
   "cell_type": "code",
   "execution_count": 5,
   "metadata": {},
   "outputs": [
    {
     "name": "stdout",
     "output_type": "stream",
     "text": [
      "            Number of Nodes: 2612\n",
      "            Features: (2612, 7)\n",
      "            Edge_Index: (2, 18284)\n",
      "            Coordinates of Nodes: (2612, 3)\n",
      "            Protein Name: 1AGQ_D\n"
     ]
    }
   ],
   "source": [
    "from c_ProteinGraph import ProteinGraph\n",
    "\n",
    "path = 'C:/Users/thoma/OneDrive - ZHAW/ProteinSurfaces/surfaces_graphs'\n",
    "\n",
    "files_graph_name = list_files(path)\n",
    "files_graph = []\n",
    "\n",
    "\n",
    "files_graph.append(load_object(path + '/' + files_graph_name[5]))\n",
    "\n",
    "print(files_graph[0])\n",
    "\n",
    "\n",
    " "
   ]
  },
  {
   "cell_type": "code",
   "execution_count": 6,
   "metadata": {},
   "outputs": [],
   "source": [
    "\n",
    "graph_prot_1 = files_graph[0]\n"
   ]
  },
  {
   "cell_type": "code",
   "execution_count": 7,
   "metadata": {},
   "outputs": [
    {
     "name": "stdout",
     "output_type": "stream",
     "text": [
      "            Number of Nodes: 2612\n",
      "            Features: (2612, 7)\n",
      "            Edge_Index: (2, 18284)\n",
      "            Coordinates of Nodes: (2612, 3)\n",
      "            Protein Name: 1AGQ_D\n"
     ]
    }
   ],
   "source": [
    "print(graph_prot_1)\n",
    "\n"
   ]
  },
  {
   "cell_type": "code",
   "execution_count": 8,
   "metadata": {},
   "outputs": [],
   "source": [
    "import f_extract_patches as extract\n",
    "import numpy as np"
   ]
  },
  {
   "cell_type": "code",
   "execution_count": 12,
   "metadata": {},
   "outputs": [
    {
     "name": "stdout",
     "output_type": "stream",
     "text": [
      "[[tensor([ 312,  315,  321,  349,  806,  889,  965, 1173, 1218, 1242, 1265, 1448,\n",
      "        1658, 1683, 1904, 1951, 2229, 2345, 2355, 2359]), tensor([[ 312,  312,  312,  312,  312,  312,  312,  315,  315,  315,  315,  315,\n",
      "          315,  321,  321,  321,  321,  321,  349,  349,  349,  349,  349,  349,\n",
      "          806,  806,  806,  806,  889,  889,  889,  889,  889,  889,  889,  965,\n",
      "          965,  965,  965,  965, 1173, 1173, 1173, 1173, 1173, 1218, 1218, 1218,\n",
      "         1218, 1218, 1242, 1242, 1242, 1242, 1242, 1242, 1242, 1265, 1265, 1265,\n",
      "         1265, 1448, 1448, 1448, 1448, 1448, 1658, 1658, 1658, 1658, 1658, 1658,\n",
      "         1658, 1683, 1683, 1683, 1683, 1904, 1904, 1904, 1904, 1951, 1951, 1951,\n",
      "         1951, 1951, 1951, 1951, 1951, 1951, 1951, 2229, 2229, 2229, 2229, 2229,\n",
      "         2345, 2345, 2345, 2345, 2345, 2355, 2355, 2355, 2359, 2359, 2359, 2359],\n",
      "        [ 312,  806, 1218, 1904, 1951, 2229, 2359,  315,  321,  965, 1173, 1242,\n",
      "         1951,  315,  321,  965, 1242, 1683,  349,  889, 1173, 1242, 1658, 1951,\n",
      "          312,  806, 1904, 2359,  349,  889, 1242, 1658, 1683, 2345, 2355,  315,\n",
      "          321,  965, 1951, 2229,  315,  349, 1173, 1242, 1951,  312, 1218, 1448,\n",
      "         1951, 2359,  315,  321,  349,  889, 1173, 1242, 1683, 1265, 1448, 1658,\n",
      "         2345, 1218, 1265, 1448, 1658, 1951,  349,  889, 1265, 1448, 1658, 1951,\n",
      "         2345,  321,  889, 1242, 1683,  312,  806, 1904, 2229,  312,  315,  349,\n",
      "          965, 1173, 1218, 1448, 1658, 1951, 2229,  312,  965, 1904, 1951, 2229,\n",
      "          889, 1265, 1658, 2345, 2355,  889, 2345, 2355,  312,  806, 1218, 2359]]),         charge     hbond    hphob  iface        nx        ny        nz\n",
      "312  -0.318993  0.000000 -3.50000    0.0  0.381668  0.909692  0.163679\n",
      "315  -1.495790 -0.126281 -3.50000    0.0  0.560864  0.825132  0.067738\n",
      "321  -1.742450 -0.554246 -3.50000    0.0 -0.187739  0.931103  0.312734\n",
      "349  -1.499870  0.000000 -3.50000    0.0  0.619114 -0.178756  0.764685\n",
      "806   0.216567  0.000000 -3.50000    0.0  0.090527  0.940911  0.326329\n",
      "889  -0.523636  0.386348 -3.50000    0.0  0.243001  0.001930  0.970024\n",
      "965  -1.721480  0.000000 -3.50000    0.0  0.394228  0.809222 -0.435596\n",
      "1173 -2.051270 -0.638616 -3.50000    0.0  0.841244  0.257107  0.475609\n",
      "1218 -0.923522  0.000000 -3.50516    0.0  0.281689  0.940913  0.187972\n",
      "1242 -2.109180 -0.641569 -3.50000    0.0  0.103709  0.370102  0.923184\n",
      "1265 -0.886654 -0.268575 -3.90000    0.0  0.295725 -0.010041  0.955220\n",
      "1448 -1.187880  0.000000 -3.90000    0.0  0.162184  0.675025  0.719748\n",
      "1658 -0.731138 -0.126226 -3.50000    0.0  0.629275  0.016891  0.776999\n",
      "1683 -1.065130 -0.007662 -3.50000    0.0 -0.220997  0.156929  0.962566\n",
      "1904 -0.052405  0.051867 -3.50000    0.0  0.197684  0.979947 -0.024999\n",
      "1951 -0.919975 -0.428537 -3.71273    0.0  0.855427  0.507275  0.104483\n",
      "2229 -1.419270 -0.004215 -3.50000    0.0  0.476467  0.806963 -0.348983\n",
      "2345 -0.343756  0.000000 -3.50000    0.0  0.697162  0.196498  0.689459\n",
      "2355  0.240711  0.763177 -3.50000    0.0 -0.150839  0.348211  0.925201\n",
      "2359 -0.429505  0.000000 -3.54936    0.0  0.241438  0.936689  0.253617], [tensor([  30,  358,  479,  494,  547,  954,  987, 1033, 1541, 1553, 1607, 1727,\n",
      "        1936, 1956, 2183, 2203, 2224, 2316, 2396, 2518]), tensor([[  30,   30,   30,   30,   30,  358,  358,  358,  358,  479,  479,  479,\n",
      "          479,  479,  479,  479,  494,  494,  494,  494,  547,  547,  547,  547,\n",
      "          547,  954,  954,  954,  954,  954,  954,  987,  987,  987,  987,  987,\n",
      "         1033, 1033, 1033, 1033, 1033, 1033, 1033, 1541, 1541, 1541, 1541, 1541,\n",
      "         1541, 1553, 1553, 1553, 1553, 1553, 1553, 1553, 1553, 1553, 1607, 1607,\n",
      "         1607, 1607, 1607, 1727, 1727, 1727, 1727, 1936, 1936, 1936, 1936, 1936,\n",
      "         1936, 1936, 1936, 1936, 1956, 1956, 1956, 1956, 2183, 2183, 2183, 2183,\n",
      "         2183, 2203, 2203, 2203, 2203, 2224, 2224, 2224, 2224, 2224, 2316, 2316,\n",
      "         2316, 2316, 2316, 2316, 2396, 2396, 2396, 2396, 2396, 2518, 2518, 2518,\n",
      "         2518, 2518],\n",
      "        [  30,  987, 1033, 1553, 2316,  358, 1936, 2203, 2518,  479,  954, 1033,\n",
      "         1541, 1553, 1607, 1936,  494, 1541, 1607, 2518,  547, 1033, 1936, 2316,\n",
      "         2396,  479,  954, 1553, 1607, 1956, 2183,   30,  987, 1553, 1727, 2316,\n",
      "           30,  479,  547, 1033, 1553, 1936, 2316,  479,  494, 1541, 1607, 1936,\n",
      "         2518,   30,  479,  954,  987, 1033, 1553, 1727, 2183, 2224,  479,  494,\n",
      "          954, 1541, 1607,  987, 1553, 1727, 2224,  358,  479,  547, 1033, 1541,\n",
      "         1936, 2203, 2396, 2518,  954, 1956, 2183, 2224,  954, 1553, 1956, 2183,\n",
      "         2224,  358, 1936, 2203, 2396, 1553, 1727, 1956, 2183, 2224,   30,  547,\n",
      "          987, 1033, 2316, 2396,  547, 1936, 2203, 2316, 2396,  358,  494, 1541,\n",
      "         1936, 2518]]),         charge     hbond    hphob  iface        nx        ny        nz\n",
      "30    0.054395  0.000000 -3.90000    0.0 -0.038100 -0.581030  0.812990\n",
      "358  -0.140808  0.000000 -3.90000    0.0 -0.563493  0.410985  0.716636\n",
      "479   0.346540  0.000000 -3.90000    0.0 -0.281155 -0.599121  0.749671\n",
      "494  -0.213207  0.000000 -3.90000    0.0 -0.437077 -0.475326  0.763564\n",
      "547   0.716095  0.000000 -3.90000    0.0 -0.397089  0.263900  0.879021\n",
      "954   0.700272  0.000000 -3.90000    0.0  0.071790 -0.916663  0.393161\n",
      "987   1.103250  0.000000 -3.90000    0.0  0.338695 -0.512520  0.789056\n",
      "1033  0.295528  0.000000 -3.90000    0.0 -0.507183 -0.289169  0.811878\n",
      "1541 -0.086872  0.000000 -3.90000    0.0 -0.495766 -0.316548  0.808711\n",
      "1553  1.040660  0.000000 -3.90000    0.0 -0.116632 -0.910249  0.397297\n",
      "1607 -0.149930  0.000000 -3.90000    0.0 -0.145913 -0.771077  0.619799\n",
      "1727  2.463500  0.000000 -3.90000    0.0  0.236482 -0.849720  0.471224\n",
      "1936  0.124709  0.000000 -3.90000    0.0 -0.528215  0.102447  0.842908\n",
      "1956 -0.511476 -0.317281 -3.74118    0.0 -0.119911 -0.778367  0.616252\n",
      "2183  1.577870  0.150189 -3.90000    0.0 -0.089197 -0.951130  0.295627\n",
      "2203 -0.078956  0.000000 -3.90000    0.0 -0.420035  0.811823  0.405604\n",
      "2224  2.114260  0.194936 -3.90000    0.0  0.106150 -0.871140  0.479423\n",
      "2316  1.058850  0.000000 -3.90000    0.0  0.006069  0.126879  0.991900\n",
      "2396  0.427780  0.000000 -3.90000    0.0 -0.251052  0.602057  0.757958\n",
      "2518 -0.154368  0.000000 -3.90000    0.0 -0.608382 -0.079178  0.789685]]\n"
     ]
    }
   ],
   "source": [
    "num_node = graph_prot_1.features.shape[0]\n",
    "\n",
    "pacthes = extract.extract_patches(graph_prot_1,20,2)\n",
    "\n",
    "print(pacthes)\n",
    "\n",
    "\n",
    "\n",
    "from f_visualize_pointcloud import visualize_pointcloud\n",
    "\n",
    "#colors_protein = np.zeros_like(graph_prot_1.pos)\n",
    "#colors_protein[:] = [1,0,0]\n",
    "#colors_protein[subset] = [0,0,1]\n",
    "\n",
    "\n",
    "\n",
    "#visualize_pointcloud(graph_prot_1.pos, colors = colors_protein)\n",
    "\n",
    "\n"
   ]
  },
  {
   "cell_type": "code",
   "execution_count": 199,
   "metadata": {},
   "outputs": [
    {
     "name": "stdout",
     "output_type": "stream",
     "text": [
      "torch.Size([2, 60])\n"
     ]
    }
   ],
   "source": [
    "print(edge_index.shape)"
   ]
  },
  {
   "cell_type": "markdown",
   "metadata": {},
   "source": [
    "## Test what is in a pickle file now"
   ]
  },
  {
   "cell_type": "code",
   "execution_count": null,
   "metadata": {},
   "outputs": [
    {
     "ename": "FileNotFoundError",
     "evalue": "[Errno 2] No such file or directory: 'C:/Users/thoma/OneDrive - ZHAW/ProteinSurfaces/graphs/1A99_C.pkl'",
     "output_type": "error",
     "traceback": [
      "\u001b[1;31m---------------------------------------------------------------------------\u001b[0m",
      "\u001b[1;31mFileNotFoundError\u001b[0m                         Traceback (most recent call last)",
      "Cell \u001b[1;32mIn [11], line 2\u001b[0m\n\u001b[0;32m      1\u001b[0m \u001b[39mdir\u001b[39m \u001b[39m=\u001b[39m path \u001b[39m+\u001b[39m \u001b[39m'\u001b[39m\u001b[39m/graphs\u001b[39m\u001b[39m'\u001b[39m\n\u001b[1;32m----> 2\u001b[0m test \u001b[39m=\u001b[39m load_object(\u001b[39mdir\u001b[39;49m \u001b[39m+\u001b[39;49m \u001b[39m'\u001b[39;49m\u001b[39m/1A99_C.pkl\u001b[39;49m\u001b[39m'\u001b[39;49m)\n\u001b[0;32m      3\u001b[0m \u001b[39mprint\u001b[39m(test)\n",
      "File \u001b[1;32mc:\\Users\\thoma\\Desktop\\ZHAW MLS\\David prod\\ADLProtProject\\helper_functions.py:9\u001b[0m, in \u001b[0;36mload_object\u001b[1;34m(filename)\u001b[0m\n\u001b[0;32m      8\u001b[0m \u001b[39mdef\u001b[39;00m \u001b[39mload_object\u001b[39m(filename):\n\u001b[1;32m----> 9\u001b[0m     \u001b[39mwith\u001b[39;00m \u001b[39mopen\u001b[39;49m(filename, \u001b[39m'\u001b[39;49m\u001b[39mrb\u001b[39;49m\u001b[39m'\u001b[39;49m) \u001b[39mas\u001b[39;00m f:\n\u001b[0;32m     10\u001b[0m         \u001b[39mreturn\u001b[39;00m pickle\u001b[39m.\u001b[39mload(f)\n",
      "\u001b[1;31mFileNotFoundError\u001b[0m: [Errno 2] No such file or directory: 'C:/Users/thoma/OneDrive - ZHAW/ProteinSurfaces/graphs/1A99_C.pkl'"
     ]
    }
   ],
   "source": [
    "dir = path + '/graphs'\n",
    "test = load_object(dir + '/1A99_C.pkl')\n",
    "print(test)"
   ]
  },
  {
   "cell_type": "code",
   "execution_count": null,
   "metadata": {},
   "outputs": [
    {
     "ename": "NameError",
     "evalue": "name 'test' is not defined",
     "output_type": "error",
     "traceback": [
      "\u001b[1;31m---------------------------------------------------------------------------\u001b[0m",
      "\u001b[1;31mNameError\u001b[0m                                 Traceback (most recent call last)",
      "Cell \u001b[1;32mIn [12], line 1\u001b[0m\n\u001b[1;32m----> 1\u001b[0m test\u001b[39m.\u001b[39mnum_features()\n",
      "\u001b[1;31mNameError\u001b[0m: name 'test' is not defined"
     ]
    }
   ],
   "source": [
    "test.num_features()"
   ]
  },
  {
   "cell_type": "code",
   "execution_count": null,
   "metadata": {},
   "outputs": [],
   "source": [
    "test.num_nodes()"
   ]
  },
  {
   "cell_type": "code",
   "execution_count": null,
   "metadata": {},
   "outputs": [],
   "source": [
    "test.features"
   ]
  },
  {
   "cell_type": "code",
   "execution_count": null,
   "metadata": {},
   "outputs": [],
   "source": [
    "test.pos"
   ]
  },
  {
   "cell_type": "code",
   "execution_count": null,
   "metadata": {},
   "outputs": [],
   "source": [
    "test.edge_index"
   ]
  },
  {
   "cell_type": "code",
   "execution_count": null,
   "metadata": {},
   "outputs": [],
   "source": [
    "test.name"
   ]
  },
  {
   "cell_type": "code",
   "execution_count": null,
   "metadata": {},
   "outputs": [],
   "source": [
    "test.patches = ((edge_index, label, center_index), (edge_index, label ), ())"
   ]
  }
 ],
 "metadata": {
  "kernelspec": {
   "display_name": "Python 3.9.7 ('.venv': venv)",
   "language": "python",
   "name": "python3"
  },
  "language_info": {
   "codemirror_mode": {
    "name": "ipython",
    "version": 3
   },
   "file_extension": ".py",
   "mimetype": "text/x-python",
   "name": "python",
   "nbconvert_exporter": "python",
   "pygments_lexer": "ipython3",
   "version": "3.9.7"
  },
  "orig_nbformat": 4,
  "vscode": {
   "interpreter": {
    "hash": "f3baeb0c3f97feb3023477fbaa09b9f4da769e45e64d8febc6957bb84d33ff77"
   }
  }
 },
 "nbformat": 4,
 "nbformat_minor": 2
}
