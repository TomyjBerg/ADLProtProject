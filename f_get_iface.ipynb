{
 "cells": [
  {
   "cell_type": "code",
   "execution_count": 91,
   "metadata": {},
   "outputs": [],
   "source": [
    "path = 'C:/Users/david/pyproj/pyg/adl/surfaces_graphs'"
   ]
  },
  {
   "cell_type": "code",
   "execution_count": 92,
   "metadata": {},
   "outputs": [
    {
     "name": "stdout",
     "output_type": "stream",
     "text": [
      "            Number of Nodes: 5436\n",
      "            Features: (5436, 7)\n",
      "            Edge_Index: (2, 38052)\n",
      "            Coordinates of Nodes: (5436, 3)\n",
      "            Protein Name: 1A99_C\n"
     ]
    }
   ],
   "source": [
    "from helper_functions import load_object, save_object\n",
    "from c_ProteinGraph import ProteinGraph\n",
    "\n",
    "protein = load_object(path + '/1A99_C.pkl')\n",
    "print(protein)"
   ]
  },
  {
   "cell_type": "code",
   "execution_count": 93,
   "metadata": {},
   "outputs": [
    {
     "data": {
      "text/html": [
       "<div>\n",
       "<style scoped>\n",
       "    .dataframe tbody tr th:only-of-type {\n",
       "        vertical-align: middle;\n",
       "    }\n",
       "\n",
       "    .dataframe tbody tr th {\n",
       "        vertical-align: top;\n",
       "    }\n",
       "\n",
       "    .dataframe thead th {\n",
       "        text-align: right;\n",
       "    }\n",
       "</style>\n",
       "<table border=\"1\" class=\"dataframe\">\n",
       "  <thead>\n",
       "    <tr style=\"text-align: right;\">\n",
       "      <th></th>\n",
       "      <th>charge</th>\n",
       "      <th>hbond</th>\n",
       "      <th>hphob</th>\n",
       "      <th>iface</th>\n",
       "      <th>nx</th>\n",
       "      <th>ny</th>\n",
       "      <th>nz</th>\n",
       "    </tr>\n",
       "  </thead>\n",
       "  <tbody>\n",
       "    <tr>\n",
       "      <th>0</th>\n",
       "      <td>-0.428748</td>\n",
       "      <td>0.000000</td>\n",
       "      <td>-0.800000</td>\n",
       "      <td>0.0</td>\n",
       "      <td>-0.713140</td>\n",
       "      <td>-0.624563</td>\n",
       "      <td>0.318361</td>\n",
       "    </tr>\n",
       "    <tr>\n",
       "      <th>1</th>\n",
       "      <td>-0.979808</td>\n",
       "      <td>-0.858461</td>\n",
       "      <td>-3.900000</td>\n",
       "      <td>0.0</td>\n",
       "      <td>-0.764117</td>\n",
       "      <td>0.538019</td>\n",
       "      <td>-0.355893</td>\n",
       "    </tr>\n",
       "    <tr>\n",
       "      <th>2</th>\n",
       "      <td>1.377310</td>\n",
       "      <td>0.590928</td>\n",
       "      <td>-3.900000</td>\n",
       "      <td>0.0</td>\n",
       "      <td>-0.534525</td>\n",
       "      <td>0.701649</td>\n",
       "      <td>-0.471139</td>\n",
       "    </tr>\n",
       "    <tr>\n",
       "      <th>3</th>\n",
       "      <td>-0.451561</td>\n",
       "      <td>0.000000</td>\n",
       "      <td>-1.300000</td>\n",
       "      <td>0.0</td>\n",
       "      <td>0.723469</td>\n",
       "      <td>-0.020427</td>\n",
       "      <td>0.690054</td>\n",
       "    </tr>\n",
       "    <tr>\n",
       "      <th>4</th>\n",
       "      <td>0.594166</td>\n",
       "      <td>0.585868</td>\n",
       "      <td>-0.800000</td>\n",
       "      <td>0.0</td>\n",
       "      <td>0.233010</td>\n",
       "      <td>-0.627603</td>\n",
       "      <td>-0.742847</td>\n",
       "    </tr>\n",
       "    <tr>\n",
       "      <th>...</th>\n",
       "      <td>...</td>\n",
       "      <td>...</td>\n",
       "      <td>...</td>\n",
       "      <td>...</td>\n",
       "      <td>...</td>\n",
       "      <td>...</td>\n",
       "      <td>...</td>\n",
       "    </tr>\n",
       "    <tr>\n",
       "      <th>5431</th>\n",
       "      <td>-0.570744</td>\n",
       "      <td>0.000000</td>\n",
       "      <td>-3.500000</td>\n",
       "      <td>0.0</td>\n",
       "      <td>-0.358433</td>\n",
       "      <td>-0.860539</td>\n",
       "      <td>-0.361937</td>\n",
       "    </tr>\n",
       "    <tr>\n",
       "      <th>5432</th>\n",
       "      <td>0.711245</td>\n",
       "      <td>0.000000</td>\n",
       "      <td>-4.500000</td>\n",
       "      <td>0.0</td>\n",
       "      <td>-0.163083</td>\n",
       "      <td>-0.933089</td>\n",
       "      <td>0.320544</td>\n",
       "    </tr>\n",
       "    <tr>\n",
       "      <th>5433</th>\n",
       "      <td>-1.252210</td>\n",
       "      <td>-0.055806</td>\n",
       "      <td>-0.997909</td>\n",
       "      <td>0.0</td>\n",
       "      <td>-0.798821</td>\n",
       "      <td>-0.177162</td>\n",
       "      <td>0.574890</td>\n",
       "    </tr>\n",
       "    <tr>\n",
       "      <th>5434</th>\n",
       "      <td>-2.107680</td>\n",
       "      <td>-0.270134</td>\n",
       "      <td>-3.500000</td>\n",
       "      <td>0.0</td>\n",
       "      <td>0.223427</td>\n",
       "      <td>-0.968186</td>\n",
       "      <td>-0.112677</td>\n",
       "    </tr>\n",
       "    <tr>\n",
       "      <th>5435</th>\n",
       "      <td>-1.374530</td>\n",
       "      <td>-0.278806</td>\n",
       "      <td>1.418340</td>\n",
       "      <td>0.0</td>\n",
       "      <td>-0.033706</td>\n",
       "      <td>-0.220841</td>\n",
       "      <td>0.974727</td>\n",
       "    </tr>\n",
       "  </tbody>\n",
       "</table>\n",
       "<p>5436 rows × 7 columns</p>\n",
       "</div>"
      ],
      "text/plain": [
       "        charge     hbond     hphob  iface        nx        ny        nz\n",
       "0    -0.428748  0.000000 -0.800000    0.0 -0.713140 -0.624563  0.318361\n",
       "1    -0.979808 -0.858461 -3.900000    0.0 -0.764117  0.538019 -0.355893\n",
       "2     1.377310  0.590928 -3.900000    0.0 -0.534525  0.701649 -0.471139\n",
       "3    -0.451561  0.000000 -1.300000    0.0  0.723469 -0.020427  0.690054\n",
       "4     0.594166  0.585868 -0.800000    0.0  0.233010 -0.627603 -0.742847\n",
       "...        ...       ...       ...    ...       ...       ...       ...\n",
       "5431 -0.570744  0.000000 -3.500000    0.0 -0.358433 -0.860539 -0.361937\n",
       "5432  0.711245  0.000000 -4.500000    0.0 -0.163083 -0.933089  0.320544\n",
       "5433 -1.252210 -0.055806 -0.997909    0.0 -0.798821 -0.177162  0.574890\n",
       "5434 -2.107680 -0.270134 -3.500000    0.0  0.223427 -0.968186 -0.112677\n",
       "5435 -1.374530 -0.278806  1.418340    0.0 -0.033706 -0.220841  0.974727\n",
       "\n",
       "[5436 rows x 7 columns]"
      ]
     },
     "execution_count": 93,
     "metadata": {},
     "output_type": "execute_result"
    }
   ],
   "source": [
    "protein.features"
   ]
  },
  {
   "cell_type": "code",
   "execution_count": 94,
   "metadata": {},
   "outputs": [
    {
     "data": {
      "text/plain": [
       "array([[163.84  ,  74.399 ,  38.868 ],\n",
       "       [168.444 ,  61.654 ,  25.985 ],\n",
       "       [172.723 ,  68.267 ,  16.275 ],\n",
       "       ...,\n",
       "       [166.245 ,  72.9257,  40.0166],\n",
       "       [184.172 ,  47.6889,  43.829 ],\n",
       "       [187.221 ,  79.2814,  44.0416]], dtype=float32)"
      ]
     },
     "execution_count": 94,
     "metadata": {},
     "output_type": "execute_result"
    }
   ],
   "source": [
    "protein.pos"
   ]
  },
  {
   "cell_type": "code",
   "execution_count": 95,
   "metadata": {},
   "outputs": [],
   "source": [
    "from f_get_iface import get_iface\n",
    "\n",
    "iface_idx, iface_center = get_iface(protein.pos, protein.features)"
   ]
  },
  {
   "cell_type": "code",
   "execution_count": 96,
   "metadata": {},
   "outputs": [
    {
     "name": "stdout",
     "output_type": "stream",
     "text": [
      "121\n"
     ]
    },
    {
     "data": {
      "text/plain": [
       "[16,\n",
       " 31,\n",
       " 41,\n",
       " 89,\n",
       " 193,\n",
       " 277,\n",
       " 300,\n",
       " 304,\n",
       " 325,\n",
       " 339,\n",
       " 372,\n",
       " 433,\n",
       " 444,\n",
       " 589,\n",
       " 603,\n",
       " 649,\n",
       " 654,\n",
       " 733,\n",
       " 784,\n",
       " 902,\n",
       " 930,\n",
       " 983,\n",
       " 1020,\n",
       " 1108,\n",
       " 1122,\n",
       " 1132,\n",
       " 1134,\n",
       " 1304,\n",
       " 1327,\n",
       " 1371,\n",
       " 1437,\n",
       " 1531,\n",
       " 1597,\n",
       " 1631,\n",
       " 1665,\n",
       " 1687,\n",
       " 1767,\n",
       " 1784,\n",
       " 1791,\n",
       " 1878,\n",
       " 1926,\n",
       " 1965,\n",
       " 1977,\n",
       " 2043,\n",
       " 2075,\n",
       " 2148,\n",
       " 2214,\n",
       " 2297,\n",
       " 2350,\n",
       " 2352,\n",
       " 2367,\n",
       " 2433,\n",
       " 2441,\n",
       " 2497,\n",
       " 2509,\n",
       " 2521,\n",
       " 2529,\n",
       " 2564,\n",
       " 2612,\n",
       " 2646,\n",
       " 2650,\n",
       " 2652,\n",
       " 2658,\n",
       " 2679,\n",
       " 2730,\n",
       " 2743,\n",
       " 2840,\n",
       " 2926,\n",
       " 2928,\n",
       " 2936,\n",
       " 2938,\n",
       " 2966,\n",
       " 3031,\n",
       " 3093,\n",
       " 3113,\n",
       " 3116,\n",
       " 3214,\n",
       " 3269,\n",
       " 3303,\n",
       " 3456,\n",
       " 3524,\n",
       " 3558,\n",
       " 3624,\n",
       " 3645,\n",
       " 3699,\n",
       " 3812,\n",
       " 3881,\n",
       " 3892,\n",
       " 3935,\n",
       " 3960,\n",
       " 3995,\n",
       " 4045,\n",
       " 4126,\n",
       " 4170,\n",
       " 4184,\n",
       " 4207,\n",
       " 4221,\n",
       " 4256,\n",
       " 4275,\n",
       " 4316,\n",
       " 4318,\n",
       " 4334,\n",
       " 4435,\n",
       " 4453,\n",
       " 4502,\n",
       " 4529,\n",
       " 4553,\n",
       " 4560,\n",
       " 4736,\n",
       " 4803,\n",
       " 4821,\n",
       " 4846,\n",
       " 4849,\n",
       " 4850,\n",
       " 4863,\n",
       " 4939,\n",
       " 4950,\n",
       " 5078,\n",
       " 5141,\n",
       " 5260,\n",
       " 5384]"
      ]
     },
     "execution_count": 96,
     "metadata": {},
     "output_type": "execute_result"
    }
   ],
   "source": [
    "print(len(iface_idx))\n",
    "iface_idx"
   ]
  },
  {
   "cell_type": "code",
   "execution_count": 97,
   "metadata": {},
   "outputs": [
    {
     "data": {
      "text/plain": [
       "(98, 4275, array([165.634 ,  62.0231,  31.9535], dtype=float32))"
      ]
     },
     "execution_count": 97,
     "metadata": {},
     "output_type": "execute_result"
    }
   ],
   "source": [
    "iface_center"
   ]
  },
  {
   "cell_type": "code",
   "execution_count": 98,
   "metadata": {},
   "outputs": [],
   "source": [
    "import numpy as np\n",
    "colors = np.zeros((len(iface_idx), 3))\n",
    "colors[:] = [1,0,0]\n",
    "colors[iface_center[0]] = [0,0,1]"
   ]
  },
  {
   "cell_type": "code",
   "execution_count": 99,
   "metadata": {},
   "outputs": [],
   "source": [
    "from f_visualize_pointcloud import visualize_pointcloud\n",
    "visualize_pointcloud(protein.pos[iface_idx], colors = colors)"
   ]
  }
 ],
 "metadata": {
  "kernelspec": {
   "display_name": "Python 3.9.13 ('pyg_env')",
   "language": "python",
   "name": "python3"
  },
  "language_info": {
   "codemirror_mode": {
    "name": "ipython",
    "version": 3
   },
   "file_extension": ".py",
   "mimetype": "text/x-python",
   "name": "python",
   "nbconvert_exporter": "python",
   "pygments_lexer": "ipython3",
   "version": "3.9.13"
  },
  "orig_nbformat": 4,
  "vscode": {
   "interpreter": {
    "hash": "5295f743bc4e47f7cb4c7d5e484c5cf6bb52e824ff35c3fecf2642e2b62ae0ab"
   }
  }
 },
 "nbformat": 4,
 "nbformat_minor": 2
}
