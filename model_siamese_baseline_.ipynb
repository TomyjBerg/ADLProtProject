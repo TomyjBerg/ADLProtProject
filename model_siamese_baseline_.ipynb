{
 "cells": [
  {
   "cell_type": "markdown",
   "metadata": {},
   "source": [
    "### Load Data"
   ]
  },
  {
   "cell_type": "code",
   "execution_count": 1,
   "metadata": {},
   "outputs": [],
   "source": [
    "model_name = 'model_siamese_baseline_max'\n",
    "num_epochs = 40"
   ]
  },
  {
   "cell_type": "code",
   "execution_count": 2,
   "metadata": {},
   "outputs": [],
   "source": [
    "import torch\n",
    "import torch.nn.functional as F\n",
    "import torch_geometric.transforms as T\n",
    "from torch_geometric.loader import DenseDataLoader\n",
    "from torch_geometric.loader import DataLoader \n",
    "from torch_geometric.nn import GCNConv, global_max_pool, global_mean_pool, global_add_pool\n",
    "from torch_geometric.utils import dense_to_sparse\n",
    "import math\n",
    "import numpy as np"
   ]
  },
  {
   "cell_type": "code",
   "execution_count": 3,
   "metadata": {},
   "outputs": [],
   "source": [
    "data_dir_1 = 'C:/Users/david/pyproj/pyg/adl/patch_label_1'\n",
    "data_dir_0 = 'C:/Users/david/pyproj/pyg/adl/patch_label_0'\n",
    "#data_dir_1 = 'adl_data_1'\n",
    "#data_dir_0 = 'adl_data_0'"
   ]
  },
  {
   "cell_type": "code",
   "execution_count": 4,
   "metadata": {},
   "outputs": [
    {
     "data": {
      "text/plain": [
       "572"
      ]
     },
     "execution_count": 4,
     "metadata": {},
     "output_type": "execute_result"
    }
   ],
   "source": [
    "from c_PatchDataset_sparse import PatchDataset\n",
    "dataset = PatchDataset(data_dir_label_0 = data_dir_0,  data_dir_label_1=data_dir_1,  neg_pos_ratio=1)\n",
    "len(dataset)"
   ]
  },
  {
   "cell_type": "code",
   "execution_count": 5,
   "metadata": {},
   "outputs": [
    {
     "name": "stdout",
     "output_type": "stream",
     "text": [
      "Number of graphs pairs: 572\n",
      "(Data(x=[100, 3], edge_index=[2, 598], y=0), Data(x=[100, 3], edge_index=[2, 638], y=0))\n"
     ]
    }
   ],
   "source": [
    "print(f'Number of graphs pairs: {len(dataset)}')\n",
    "data = dataset[0]  # Get the first graph object.\n",
    "print(data)"
   ]
  },
  {
   "cell_type": "code",
   "execution_count": 6,
   "metadata": {},
   "outputs": [],
   "source": [
    "graph_dataset= []\n",
    "for data in dataset:\n",
    "    graph_dataset.append(data[0])\n",
    "    graph_dataset.append(data[1])"
   ]
  },
  {
   "cell_type": "code",
   "execution_count": 7,
   "metadata": {},
   "outputs": [],
   "source": [
    "from torch_geometric.data import Data\n",
    "\n",
    "pair_data = []\n",
    "couple_loader = DataLoader(dataset = graph_dataset, batch_size=2, shuffle=False)\n",
    "\n",
    "for couple in couple_loader:\n",
    "    y = couple.y[0].long()\n",
    "    couple_graph = Data(x=couple.x, edge_index=couple.edge_index, y=y, original_batch = couple.batch)\n",
    "    pair_data.append(couple_graph)"
   ]
  },
  {
   "cell_type": "code",
   "execution_count": 8,
   "metadata": {},
   "outputs": [
    {
     "name": "stdout",
     "output_type": "stream",
     "text": [
      "Number of training graphs pairs: 382\n",
      "Number of validation graphs: 95\n",
      "Number of test graphs: 95\n"
     ]
    }
   ],
   "source": [
    "batch_size = 1\n",
    "\n",
    "n_train = math.ceil((4/6) * len(dataset))\n",
    "n_val = math.ceil((len(dataset) - n_train)/2)\n",
    "n_test = len(dataset) - n_train - n_val\n",
    "\n",
    "train_dataset, val_dataset, test_dataset = torch.utils.data.random_split(pair_data, [n_train, n_val, n_test])\n",
    "print(f'Number of training graphs pairs: {len(train_dataset)}')\n",
    "print(f'Number of validation graphs: {len(val_dataset)}')\n",
    "print(f'Number of test graphs: {len(test_dataset)}')\n",
    "\n",
    "train_loader = DataLoader(dataset = train_dataset, batch_size= batch_size, shuffle=True)\n",
    "val_loader = DataLoader(dataset = val_dataset, batch_size= batch_size, shuffle=True)\n",
    "test_loader = DataLoader(dataset = test_dataset, batch_size= batch_size, shuffle=True)"
   ]
  },
  {
   "cell_type": "code",
   "execution_count": 9,
   "metadata": {},
   "outputs": [
    {
     "data": {
      "text/plain": [
       "DataBatch(x=[200, 3], edge_index=[2, 1214], y=[1], original_batch=[200], batch=[200], ptr=[2])"
      ]
     },
     "execution_count": 9,
     "metadata": {},
     "output_type": "execute_result"
    }
   ],
   "source": [
    "databatch = next(iter(train_loader))\n",
    "databatch"
   ]
  },
  {
   "cell_type": "code",
   "execution_count": 10,
   "metadata": {},
   "outputs": [
    {
     "data": {
      "text/plain": [
       "tensor([0, 0, 0, 0, 0, 0, 0, 0, 0, 0, 0, 0, 0, 0, 0, 0, 0, 0, 0, 0, 0, 0, 0, 0,\n",
       "        0, 0, 0, 0, 0, 0, 0, 0, 0, 0, 0, 0, 0, 0, 0, 0, 0, 0, 0, 0, 0, 0, 0, 0,\n",
       "        0, 0, 0, 0, 0, 0, 0, 0, 0, 0, 0, 0, 0, 0, 0, 0, 0, 0, 0, 0, 0, 0, 0, 0,\n",
       "        0, 0, 0, 0, 0, 0, 0, 0, 0, 0, 0, 0, 0, 0, 0, 0, 0, 0, 0, 0, 0, 0, 0, 0,\n",
       "        0, 0, 0, 0, 1, 1, 1, 1, 1, 1, 1, 1, 1, 1, 1, 1, 1, 1, 1, 1, 1, 1, 1, 1,\n",
       "        1, 1, 1, 1, 1, 1, 1, 1, 1, 1, 1, 1, 1, 1, 1, 1, 1, 1, 1, 1, 1, 1, 1, 1,\n",
       "        1, 1, 1, 1, 1, 1, 1, 1, 1, 1, 1, 1, 1, 1, 1, 1, 1, 1, 1, 1, 1, 1, 1, 1,\n",
       "        1, 1, 1, 1, 1, 1, 1, 1, 1, 1, 1, 1, 1, 1, 1, 1, 1, 1, 1, 1, 1, 1, 1, 1,\n",
       "        1, 1, 1, 1, 1, 1, 1, 1])"
      ]
     },
     "execution_count": 10,
     "metadata": {},
     "output_type": "execute_result"
    }
   ],
   "source": [
    "databatch.original_batch"
   ]
  },
  {
   "attachments": {},
   "cell_type": "markdown",
   "metadata": {},
   "source": [
    "### Define Loss Function"
   ]
  },
  {
   "cell_type": "code",
   "execution_count": 11,
   "metadata": {},
   "outputs": [],
   "source": [
    "class ContrastiveLoss(torch.nn.Module):\n",
    "\n",
    "    def __init__(self, margin=1.0):\n",
    "        super(ContrastiveLoss, self).__init__()\n",
    "        self.margin = margin\n",
    "\n",
    "    def forward(self, x0, x1, y):\n",
    "\n",
    "        diff = x0 - x1\n",
    "        pow = torch.pow(diff, 2)\n",
    "        dist_sq = torch.sum(pow, 0)\n",
    "        dist = torch.sqrt(dist_sq) \n",
    "        mdist = self.margin - dist #negative euclidean distance - margin\n",
    "        dist_marg = torch.clamp(mdist, min=0.0) # only distances <margin will be still positive here\n",
    "        loss =  y * torch.pow(dist, 2) + (1-y) * torch.pow(dist_marg,2)\n",
    "        \n",
    "        #             Margin = 1            Margin = 2.0        Margin = 3.0\n",
    "        # dist = 0.2  label 1 --> 0.04      --> 0.04            --> 0.04\n",
    "        # dist = 0.2  label 0 --> 0.64      --> 3.24            --> 7.84\n",
    "        #\n",
    "        # dist = 0.5  label 1 --> 0.25      --> 0.25            --> 0.25\n",
    "        # dist = 0.5  label 0 --> 0.25      --> 2.25            --> 6.25\n",
    "        # \n",
    "        # dist = 1.0  label 1 --> 1.0       --> 1.0             --> 1.0 \n",
    "        # dist = 1.0  label 0 --> 0         --> 1.0             --> 4.0\n",
    "        #\n",
    "        # dist = 1.5  label 1 --> 2.25      --> 2.25            --> 2.25\n",
    "        # dist = 1.5  label 0 --> 0         --> 0.25            --> 2.25\n",
    "        # \n",
    "        # dist = 3    label 1 --> 9         --> 9               --> 9\n",
    "        # dist = 3    label 0 --> 0         --> 0               --> 0\n",
    "\n",
    "        loss = loss / 2.0\n",
    "        return loss"
   ]
  },
  {
   "cell_type": "markdown",
   "metadata": {},
   "source": [
    "### Define Network"
   ]
  },
  {
   "cell_type": "code",
   "execution_count": 12,
   "metadata": {},
   "outputs": [],
   "source": [
    "class GNN(torch.nn.Module):\n",
    "    def __init__(self, in_channels, hidden_channels, out_channels,\n",
    "                 normalize=False, lin=True):\n",
    "        super(GNN, self).__init__()\n",
    "\n",
    "               \n",
    "        self.conv1 = GCNConv(in_channels, hidden_channels, normalize)\n",
    "        self.conv2 = GCNConv(hidden_channels, hidden_channels, normalize)\n",
    "        self.conv3 = GCNConv(hidden_channels, out_channels, normalize)\n",
    "\n",
    "\n",
    "    def forward(self, x, edge_index):\n",
    "        \n",
    "        x = self.conv1(x, edge_index)\n",
    "        x = self.conv2(x, edge_index)\n",
    "        x = self.conv3(x, edge_index)\n",
    "\n",
    "        return x\n",
    "\n",
    "\n",
    "class ConvNet(torch.nn.Module):\n",
    "    def __init__(self):\n",
    "        super(ConvNet, self).__init__()\n",
    "\n",
    "        self.gnn1 = GNN(dataset.num_features, 8, 16)\n",
    "        self.gnn2 = GNN(16, 32, 48, lin=False)\n",
    "        self.gnn3 = GNN(48, 64, 96, lin=False)\n",
    "\n",
    "\n",
    "    def forward(self, x, adj, batch):\n",
    "        \n",
    "        x = self.gnn1(x, adj)\n",
    "        x = self.gnn2(x, adj)\n",
    "        x = self.gnn3(x, adj)\n",
    "\n",
    "        x = global_max_pool(x, batch)\n",
    "        #x = global_mean_pool(x, batch)\n",
    "        #x = global_add_pool(x, batch)\n",
    "\n",
    "        return x"
   ]
  },
  {
   "cell_type": "code",
   "execution_count": 13,
   "metadata": {},
   "outputs": [],
   "source": [
    "def count_parameters(model, trainable=True):\n",
    "    return sum(p.numel() for p in model.parameters() if p.requires_grad or not trainable)"
   ]
  },
  {
   "attachments": {},
   "cell_type": "markdown",
   "metadata": {},
   "source": [
    "### Training"
   ]
  },
  {
   "cell_type": "code",
   "execution_count": 14,
   "metadata": {},
   "outputs": [
    {
     "name": "stdout",
     "output_type": "stream",
     "text": [
      "cpu\n",
      "Before Tr:  Train Loss: 91.800, Val Loss: 20.938, Test Loss: 25.962, ValDistanceRatio (L0/L1): 1.490, TrainDistanceRatio (L0/L1): 1.310\n",
      "Epoch: 001, Train Loss: 44.855, Val Loss: 11.346, Test Loss: 10.445, ValDistanceRatio (L0/L1): 1.473, TrainDistanceRatio (L0/L1): 1.369\n",
      "Epoch: 002, Train Loss: 41.823, Val Loss: 10.864, Test Loss: 9.975, ValDistanceRatio (L0/L1): 1.493, TrainDistanceRatio (L0/L1): 1.440\n",
      "Epoch: 003, Train Loss: 41.425, Val Loss: 11.007, Test Loss: 10.520, ValDistanceRatio (L0/L1): 1.443, TrainDistanceRatio (L0/L1): 1.446\n",
      "Epoch: 004, Train Loss: 39.794, Val Loss: 10.534, Test Loss: 10.547, ValDistanceRatio (L0/L1): 1.500, TrainDistanceRatio (L0/L1): 1.525\n",
      "Epoch: 005, Train Loss: 40.400, Val Loss: 10.917, Test Loss: 11.722, ValDistanceRatio (L0/L1): 1.468, TrainDistanceRatio (L0/L1): 1.554\n",
      "Epoch: 006, Train Loss: 40.414, Val Loss: 10.317, Test Loss: 10.167, ValDistanceRatio (L0/L1): 1.502, TrainDistanceRatio (L0/L1): 1.476\n",
      "Epoch: 007, Train Loss: 40.637, Val Loss: 10.755, Test Loss: 11.375, ValDistanceRatio (L0/L1): 1.528, TrainDistanceRatio (L0/L1): 1.601\n",
      "Epoch: 008, Train Loss: 39.381, Val Loss: 10.477, Test Loss: 9.961, ValDistanceRatio (L0/L1): 1.496, TrainDistanceRatio (L0/L1): 1.510\n",
      "Epoch: 009, Train Loss: 38.939, Val Loss: 10.844, Test Loss: 11.509, ValDistanceRatio (L0/L1): 1.450, TrainDistanceRatio (L0/L1): 1.588\n",
      "Epoch: 010, Train Loss: 38.133, Val Loss: 10.615, Test Loss: 10.431, ValDistanceRatio (L0/L1): 1.484, TrainDistanceRatio (L0/L1): 1.581\n",
      "Epoch: 011, Train Loss: 38.526, Val Loss: 10.597, Test Loss: 10.201, ValDistanceRatio (L0/L1): 1.488, TrainDistanceRatio (L0/L1): 1.544\n",
      "Epoch: 012, Train Loss: 38.740, Val Loss: 11.035, Test Loss: 10.443, ValDistanceRatio (L0/L1): 1.416, TrainDistanceRatio (L0/L1): 1.508\n",
      "Epoch: 013, Train Loss: 37.769, Val Loss: 10.683, Test Loss: 10.396, ValDistanceRatio (L0/L1): 1.510, TrainDistanceRatio (L0/L1): 1.604\n",
      "Epoch: 014, Train Loss: 37.518, Val Loss: 10.750, Test Loss: 10.263, ValDistanceRatio (L0/L1): 1.470, TrainDistanceRatio (L0/L1): 1.581\n",
      "Epoch: 015, Train Loss: 38.126, Val Loss: 11.029, Test Loss: 11.370, ValDistanceRatio (L0/L1): 1.449, TrainDistanceRatio (L0/L1): 1.615\n",
      "Epoch: 016, Train Loss: 37.870, Val Loss: 11.161, Test Loss: 11.232, ValDistanceRatio (L0/L1): 1.423, TrainDistanceRatio (L0/L1): 1.591\n",
      "Epoch: 017, Train Loss: 38.505, Val Loss: 11.289, Test Loss: 11.765, ValDistanceRatio (L0/L1): 1.422, TrainDistanceRatio (L0/L1): 1.579\n",
      "Epoch: 018, Train Loss: 37.460, Val Loss: 11.030, Test Loss: 11.212, ValDistanceRatio (L0/L1): 1.435, TrainDistanceRatio (L0/L1): 1.598\n",
      "Epoch: 019, Train Loss: 37.565, Val Loss: 10.897, Test Loss: 10.484, ValDistanceRatio (L0/L1): 1.470, TrainDistanceRatio (L0/L1): 1.596\n",
      "Epoch: 020, Train Loss: 38.450, Val Loss: 11.136, Test Loss: 11.770, ValDistanceRatio (L0/L1): 1.451, TrainDistanceRatio (L0/L1): 1.617\n",
      "Epoch: 021, Train Loss: 37.563, Val Loss: 10.952, Test Loss: 11.127, ValDistanceRatio (L0/L1): 1.443, TrainDistanceRatio (L0/L1): 1.593\n",
      "Epoch: 022, Train Loss: 40.422, Val Loss: 10.990, Test Loss: 11.716, ValDistanceRatio (L0/L1): 1.551, TrainDistanceRatio (L0/L1): 1.650\n",
      "Epoch: 023, Train Loss: 37.223, Val Loss: 10.964, Test Loss: 10.724, ValDistanceRatio (L0/L1): 1.471, TrainDistanceRatio (L0/L1): 1.612\n",
      "Epoch: 024, Train Loss: 38.505, Val Loss: 11.435, Test Loss: 11.644, ValDistanceRatio (L0/L1): 1.430, TrainDistanceRatio (L0/L1): 1.577\n",
      "Epoch: 025, Train Loss: 37.046, Val Loss: 10.963, Test Loss: 10.994, ValDistanceRatio (L0/L1): 1.470, TrainDistanceRatio (L0/L1): 1.631\n",
      "Epoch: 026, Train Loss: 37.351, Val Loss: 10.789, Test Loss: 10.327, ValDistanceRatio (L0/L1): 1.468, TrainDistanceRatio (L0/L1): 1.573\n",
      "Epoch: 027, Train Loss: 37.720, Val Loss: 10.761, Test Loss: 10.320, ValDistanceRatio (L0/L1): 1.490, TrainDistanceRatio (L0/L1): 1.572\n",
      "Epoch: 028, Train Loss: 39.252, Val Loss: 10.655, Test Loss: 10.163, ValDistanceRatio (L0/L1): 1.523, TrainDistanceRatio (L0/L1): 1.552\n",
      "Epoch: 029, Train Loss: 37.002, Val Loss: 10.928, Test Loss: 10.529, ValDistanceRatio (L0/L1): 1.464, TrainDistanceRatio (L0/L1): 1.612\n",
      "Epoch: 030, Train Loss: 37.011, Val Loss: 11.004, Test Loss: 10.461, ValDistanceRatio (L0/L1): 1.450, TrainDistanceRatio (L0/L1): 1.585\n",
      "Epoch: 031, Train Loss: 37.519, Val Loss: 11.045, Test Loss: 11.561, ValDistanceRatio (L0/L1): 1.476, TrainDistanceRatio (L0/L1): 1.648\n",
      "Epoch: 032, Train Loss: 37.146, Val Loss: 10.858, Test Loss: 10.742, ValDistanceRatio (L0/L1): 1.499, TrainDistanceRatio (L0/L1): 1.642\n",
      "Epoch: 033, Train Loss: 37.579, Val Loss: 11.056, Test Loss: 11.108, ValDistanceRatio (L0/L1): 1.466, TrainDistanceRatio (L0/L1): 1.636\n",
      "Epoch: 034, Train Loss: 36.877, Val Loss: 10.840, Test Loss: 10.608, ValDistanceRatio (L0/L1): 1.487, TrainDistanceRatio (L0/L1): 1.617\n",
      "Epoch: 035, Train Loss: 37.395, Val Loss: 10.965, Test Loss: 11.321, ValDistanceRatio (L0/L1): 1.501, TrainDistanceRatio (L0/L1): 1.655\n",
      "Epoch: 036, Train Loss: 37.413, Val Loss: 10.978, Test Loss: 10.150, ValDistanceRatio (L0/L1): 1.450, TrainDistanceRatio (L0/L1): 1.564\n",
      "Epoch: 037, Train Loss: 37.082, Val Loss: 10.967, Test Loss: 10.279, ValDistanceRatio (L0/L1): 1.452, TrainDistanceRatio (L0/L1): 1.578\n",
      "Epoch: 038, Train Loss: 37.057, Val Loss: 10.874, Test Loss: 10.313, ValDistanceRatio (L0/L1): 1.472, TrainDistanceRatio (L0/L1): 1.586\n",
      "Epoch: 039, Train Loss: 37.318, Val Loss: 11.040, Test Loss: 11.525, ValDistanceRatio (L0/L1): 1.478, TrainDistanceRatio (L0/L1): 1.646\n",
      "Epoch: 040, Train Loss: 37.046, Val Loss: 10.820, Test Loss: 10.629, ValDistanceRatio (L0/L1): 1.523, TrainDistanceRatio (L0/L1): 1.657\n"
     ]
    }
   ],
   "source": [
    "device = torch.device('cuda' if torch.cuda.is_available() else 'cpu')\n",
    "print(device)\n",
    "model = ConvNet().to(device)\n",
    "criterion = ContrastiveLoss()\n",
    "optimizer = torch.optim.Adam(model.parameters(), lr=0.0001)\n",
    "\n",
    "\n",
    "\n",
    "def train(epoch):\n",
    "    model.train()\n",
    "    loss_all = 0\n",
    "    for data in train_loader:\n",
    "        data = data.to(device)\n",
    "        optimizer.zero_grad()\n",
    "        output = model(data.x, data.edge_index, data.original_batch)\n",
    "        \n",
    "        # Contrastive Loss\n",
    "        loss_contrastive = 0\n",
    "        # Iterate over the pairs in one batch and compute the loss for each pair\n",
    "        for j, i in enumerate(range(0, output.shape[0], 2)):\n",
    "            loss = criterion(output[i], output[i+1], data.y[j])\n",
    "            loss_contrastive += loss\n",
    "        loss_contrastive = loss_contrastive/batch_size\n",
    "\n",
    "        loss_contrastive.backward()\n",
    "        loss_all += loss_contrastive.item()\n",
    "        optimizer.step()\n",
    "\n",
    "    return loss_all# / len(train_dataset)\n",
    "\n",
    "\n",
    "\n",
    "@torch.no_grad()\n",
    "def test(loader):\n",
    "    model.eval()\n",
    "\n",
    "    distances_lab1 = []\n",
    "    distances_lab0 = []\n",
    "    loss_all = 0\n",
    "    for data in loader:\n",
    "        data = data.to(device)\n",
    "        output = model(data.x, data.edge_index, data.original_batch)\n",
    "\n",
    "        # Contrastive Loss\n",
    "        # Iterate over the pairs in one batch and compute the loss for each pair\n",
    "        for j, i in enumerate(range(0, output.shape[0], 2)):\n",
    "            loss = criterion(output[i], output[i+1], data.y[j])\n",
    "            euclidean_distance = F.pairwise_distance(output[i], output[i+1])\n",
    "            label = data.y[j]\n",
    "\n",
    "            if int(label) == 1: \n",
    "                distances_lab1.append(float(euclidean_distance))\n",
    "                loss_all += float(loss)\n",
    "            else:\n",
    "                distances_lab0.append(float(euclidean_distance))\n",
    "                loss_all += float(loss)\n",
    "\n",
    "    return  distances_lab0, distances_lab1, loss_all\n",
    "\n",
    "\n",
    "\n",
    "# Initialize data collections\n",
    "#==============================================================================================================================\n",
    "train_distances_lab0 = []\n",
    "train_distances_lab1 = []\n",
    "train_losses = []\n",
    "\n",
    "validation_distances_lab0 = []\n",
    "validation_distances_lab1 = []\n",
    "validation_losses = []\n",
    "\n",
    "test_distances_lab0 = []\n",
    "test_distances_lab1 = []\n",
    "test_losses = []\n",
    "\n",
    "parameters = count_parameters(model)\n",
    "with open(f'{model_name}_printout.txt', 'w') as f:\n",
    "    f.write(f'Training Data ({model_name}):\\n')\n",
    "    f.write(f'Number of Parameters: {parameters}\\n')\n",
    "    f.close()\n",
    "#==============================================================================================================================\n",
    "\n",
    "\n",
    "\n",
    "# Test and Validation Data before Training\n",
    "#==============================================================================================================================\n",
    "train_results = test(train_loader)\n",
    "train_distances_lab0.append(train_results[0])\n",
    "train_distances_lab1.append(train_results[1])\n",
    "train_losses.append(train_results[2])\n",
    "\n",
    "validation_results = test(val_loader)\n",
    "validation_distances_lab0.append(validation_results[0])\n",
    "validation_distances_lab1.append(validation_results[1])\n",
    "validation_losses.append(validation_results[2])\n",
    "\n",
    "test_results = test(test_loader)\n",
    "test_distances_lab0.append(test_results[0])\n",
    "test_distances_lab1.append(test_results[1])\n",
    "test_losses.append(test_results[2])\n",
    "\n",
    "min_val_loss = (validation_results[2]+test_results[2])/2\n",
    "#==============================================================================================================================\n",
    "\n",
    "\n",
    "\n",
    "# Compute Euclidean Distances for printout\n",
    "#==============================================================================================================================\n",
    "val_dist_0 = test_results[0] + validation_results[0] # List of all euclidean distances of label 0 members of val and test dataset\n",
    "val_dist_1 = test_results[1] + validation_results[1] # List of all euclidean distances of label 1 members of val and test dataset\n",
    "# Ratio (mean label 0 euclid dist in validation set / mean label 1 euclid dist in validation set)\n",
    "val_dist_ratio = (sum(val_dist_0) / len(val_dist_0)) / (sum(val_dist_1) / len(val_dist_1))\n",
    "\n",
    "train_dist_0 = train_results[0] # List of all euclidean distances of label 0 members of train dataset\n",
    "train_dist_1 = train_results[1] # List of all euclidean distances of label 0 members of train dataset\n",
    "# Ratio of (mean label 0 euclid dist in training set / mean label 1 euclid dist in training set)\n",
    "train_dist_ratio = (sum(train_dist_0) / len(train_dist_0)) / (sum(train_dist_1) / len(train_dist_1))\n",
    "#===============================================================================================================================\n",
    "\n",
    "#printout = (f'Before Tr:  Train Loss: {train_results[2]:.3f}, Val Loss: {validation_results[2]:.3f}, Test Loss: {test_results[2]:.3f}, '\n",
    "#            f'ValDist 0: {val_dist_0:.3f}, ValDist 1: {val_dist_1:.3f}, TrainDist 0: {train_dist_0:.3f}, TrainDist 1: {train_dist_1:.3f}')\n",
    "\n",
    "printout = (f'Before Tr:  Train Loss: {train_results[2]:.3f}, Val Loss: {validation_results[2]:.3f}, Test Loss: {test_results[2]:.3f}, '\n",
    "            f'ValDistanceRatio (L0/L1): {(val_dist_ratio):.3f}, TrainDistanceRatio (L0/L1): {(train_dist_ratio):.3f}')\n",
    "\n",
    "print(printout)\n",
    "\n",
    "# append to outputs txt\n",
    "with open(f'{model_name}_printout.txt', 'a') as f:\n",
    "        f.write(printout + '\\n')\n",
    "        f.close()\n",
    "\n",
    "\n",
    "\n",
    "#===============================================================================================================================================\n",
    "# Training\n",
    "#===============================================================================================================================================\n",
    "\n",
    "for epoch in range(1, num_epochs+1):\n",
    "    train_loss = train(epoch)\n",
    "\n",
    "\n",
    "    # Test and Validation Data During Training\n",
    "    #===============================================================================================================================================\n",
    "    train_results = test(train_loader)\n",
    "    train_distances_lab0.append(train_results[0])\n",
    "    train_distances_lab1.append(train_results[1])\n",
    "    train_losses.append(train_results[2])\n",
    "\n",
    "    validation_results = test(val_loader)\n",
    "    validation_distances_lab0.append(validation_results[0])\n",
    "    validation_distances_lab1.append(validation_results[1])\n",
    "    validation_losses.append(validation_results[2])\n",
    "\n",
    "    test_results = test(test_loader)\n",
    "    test_distances_lab0.append(test_results[0])\n",
    "    test_distances_lab1.append(test_results[1])\n",
    "    test_losses.append(test_results[2])\n",
    "\n",
    "    val_distance_ratios = []\n",
    "    train_distance_ratios = []\n",
    "    #===============================================================================================================================================\n",
    "\n",
    "\n",
    "\n",
    "    # Compute Euclidean Distances for printout\n",
    "    #==============================================================================================================================\n",
    "    val_dist_0 = test_results[0]+validation_results[0] # List of all euclidean distances of label 0 members of val and test dataset\n",
    "    val_dist_1 = test_results[1]+validation_results[1] # List of all euclidean distances of label 1 members of val and test dataset\n",
    "    # Ratio (mean label 0 euclid dist in validation set / mean label 1 euclid dist in validation set)\n",
    "    val_dist_ratio = (sum(val_dist_0) / len(val_dist_0)) / (sum(val_dist_1) / len(val_dist_1))\n",
    "\n",
    "    train_dist_0 = train_results[0] # List of all euclidean distances of label 0 members of train dataset\n",
    "    train_dist_1 = train_results[1] # List of all euclidean distances of label 0 members of train dataset\n",
    "    # Ratio of (mean label 0 euclid dist in training set / mean label 1 euclid dist in training set)\n",
    "    train_dist_ratio = (sum(train_dist_0) / len(train_dist_0)) / (sum(train_dist_1) / len(train_dist_1))\n",
    "    #===============================================================================================================================\n",
    "    \n",
    "\n",
    "\n",
    "    # Create Printout\n",
    "    #===============================================================================================================================================\n",
    "    #printout = (f'Epoch: {epoch:03d}, Train Loss: {train_results[2]:.3f}, Val Loss: {validation_results[2]:.3f}, Test Loss: {test_results[2]:.3f}, '\n",
    "    #        f'ValDist 0: {val_dist_0:.3f}, ValDist 1: {val_dist_1:.3f}, TrainDist 0: {train_dist_0:.3f}, TrainDist 1: {train_dist_1:.3f}')\n",
    "    printout = (f'Epoch: {epoch:03d}, Train Loss: {train_results[2]:.3f}, Val Loss: {validation_results[2]:.3f}, Test Loss: {test_results[2]:.3f}, '\n",
    "            f'ValDistanceRatio (L0/L1): {(val_dist_ratio):.3f}, TrainDistanceRatio (L0/L1): {(train_dist_ratio):.3f}')\n",
    "    print(printout)\n",
    "\n",
    "    # append to outputs txt\n",
    "    with open(f'{model_name}_printout.txt', 'a') as f:\n",
    "        f.write(printout + '\\n')\n",
    "        f.close()\n",
    "    #===============================================================================================================================================\n",
    "\n",
    "\n",
    "\n",
    "    # Save the model outputs\n",
    "    #===============================================================================================================================================\n",
    "    np.save(f'{model_name}_training_loss.npy', train_losses, allow_pickle=True)\n",
    "    np.save(f'{model_name}_training_distances_lab0.npy', train_distances_lab0, allow_pickle=True)\n",
    "    np.save(f'{model_name}_training_distances_lab1.npy', train_distances_lab1, allow_pickle=True)\n",
    "\n",
    "    np.save(f'{model_name}_validation_loss.npy', validation_losses, allow_pickle=True)\n",
    "    np.save(f'{model_name}_validation_distances_lab0.npy', validation_distances_lab0, allow_pickle=True)\n",
    "    np.save(f'{model_name}_validation_distances_lab1.npy', validation_distances_lab1, allow_pickle=True)\n",
    "\n",
    "    np.save(f'{model_name}_test_loss.npy', test_losses, allow_pickle=True)\n",
    "    np.save(f'{model_name}_test_distances_lab0.npy', test_distances_lab0, allow_pickle=True)\n",
    "    np.save(f'{model_name}_test_distances_lab1.npy', test_distances_lab1, allow_pickle=True)\n",
    "    \n",
    "    last_saved_epoch = epoch\n",
    "    #===============================================================================================================================================\n",
    "\n",
    "\n",
    "\n",
    "    # If the epoch has improved the model, save it\n",
    "    if (validation_results[2]+test_results[2])/2 < min_val_loss:\n",
    "        new_best = True\n",
    "        min_val_loss = (validation_results[2]+test_results[2])/2\n",
    "        best_epoch = epoch\n",
    "    else:\n",
    "        new_best = False\n",
    "        \n",
    "    if new_best:\n",
    "        torch.save(model.state_dict(), f'{model_name}_state_dict_epoch.pt')\n",
    "        torch.save(model, f'{model_name}_save.pt')\n",
    "    \n"
   ]
  },
  {
   "attachments": {},
   "cell_type": "markdown",
   "metadata": {},
   "source": [
    "### Evaluation"
   ]
  },
  {
   "cell_type": "code",
   "execution_count": 15,
   "metadata": {},
   "outputs": [
    {
     "data": {
      "text/plain": [
       "(8, 40)"
      ]
     },
     "execution_count": 15,
     "metadata": {},
     "output_type": "execute_result"
    }
   ],
   "source": [
    "best_epoch, last_saved_epoch"
   ]
  },
  {
   "cell_type": "code",
   "execution_count": 16,
   "metadata": {},
   "outputs": [],
   "source": [
    "import matplotlib.pyplot as plt\n",
    "\n",
    "def compare_euclid_distances(distances_lab0, distances_lab1):\n",
    "\n",
    "    w = 0.8    # bar width\n",
    "    x = [1, 2] # x-coordinates of your bars\n",
    "    colors = [(0, 0, 1, 1), (1, 0, 0, 1)]    # corresponding colors\n",
    "\n",
    "    # Epoch 0\n",
    "    y = [distances_lab0, distances_lab1]\n",
    "\n",
    "\n",
    "    fig, ax = plt.subplots()\n",
    "    ax.bar(x,\n",
    "        height=[np.mean(yi) for yi in y],\n",
    "        yerr=[np.std(yi) for yi in y],    # error bars\n",
    "        capsize=12, # error bar cap width in points\n",
    "        width=w,    # bar width\n",
    "        tick_label=[\"Label 0\", \"Label 1\"],\n",
    "        color=(0,0,0,0),  # face color transparent\n",
    "        edgecolor=colors,\n",
    "        )\n",
    "\n",
    "    for i in range(len(x)):\n",
    "        # distribute scatter randomly across whole width of bar\n",
    "        ax.scatter(x[i] + np.random.random(len(y[i])) * w - w / 2, y[i], color=colors[i])\n",
    "\n",
    "    plt.ylabel = 'Euclidean Distance'\n",
    "    plt.ylim(top=3, bottom=0)\n",
    "    plt.show()\n"
   ]
  },
  {
   "cell_type": "code",
   "execution_count": 17,
   "metadata": {},
   "outputs": [
    {
     "data": {
      "image/png": "[encoded data removed]",
      "text/plain": [
       "<Figure size 640x480 with 1 Axes>"
      ]
     },
     "metadata": {},
     "output_type": "display_data"
    },
    {
     "data": {
      "image/png": "[encoded data removed]",
      "text/plain": [
       "<Figure size 640x480 with 1 Axes>"
      ]
     },
     "metadata": {},
     "output_type": "display_data"
    }
   ],
   "source": [
    "compare_euclid_distances(validation_distances_lab0[0], validation_distances_lab1[0])\n",
    "compare_euclid_distances(validation_distances_lab0[best_epoch], validation_distances_lab1[best_epoch])"
   ]
  },
  {
   "cell_type": "code",
   "execution_count": 29,
   "metadata": {},
   "outputs": [
    {
     "data": {
      "image/png": "[encoded data removed]",
      "text/plain": [
       "<Figure size 640x480 with 1 Axes>"
      ]
     },
     "metadata": {},
     "output_type": "display_data"
    }
   ],
   "source": [
    "import matplotlib.pyplot as plt\n",
    "\n",
    "# Generate a sequence of integers to represent the epoch numbers\n",
    "epochs = range(1, last_saved_epoch+2)\n",
    " \n",
    "# Plot and label the training and validation loss values\n",
    "plt.plot(epochs, train_losses, label='Training Loss')\n",
    "plt.plot(epochs, validation_losses, label='Validation Loss')\n",
    "plt.plot(epochs, test_losses, label='Test Loss')\n",
    " \n",
    "# Add in a title and axes labels\n",
    "plt.title('Training and Validation Loss')\n",
    "plt.xlabel('Epochs')\n",
    " \n",
    "# Set the tick locations\n",
    "plt.xticks(np.arange(0, last_saved_epoch+1, last_saved_epoch/10))\n",
    " \n",
    "# Display the plot\n",
    "plt.legend(loc='best')\n",
    "plt.savefig(f'{model_name}_Training and Validation Loss.png')\n",
    "plt.show()\n"
   ]
  }
 ],
 "metadata": {
  "kernelspec": {
   "display_name": "pyg_env",
   "language": "python",
   "name": "python3"
  },
  "language_info": {
   "codemirror_mode": {
    "name": "ipython",
    "version": 3
   },
   "file_extension": ".py",
   "mimetype": "text/x-python",
   "name": "python",
   "nbconvert_exporter": "python",
   "pygments_lexer": "ipython3",
   "version": "3.9.13"
  },
  "orig_nbformat": 4,
  "vscode": {
   "interpreter": {
    "hash": "5295f743bc4e47f7cb4c7d5e484c5cf6bb52e824ff35c3fecf2642e2b62ae0ab"
   }
  }
 },
 "nbformat": 4,
 "nbformat_minor": 2
}
