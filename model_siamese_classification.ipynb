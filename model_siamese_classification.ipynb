{
 "cells": [
  {
   "cell_type": "markdown",
   "metadata": {},
   "source": [
    "### Load Data"
   ]
  },
  {
   "cell_type": "code",
   "execution_count": 357,
   "metadata": {},
   "outputs": [],
   "source": [
    "model_name = 'model_siamese_classification'\n",
    "num_epochs = 50"
   ]
  },
  {
   "cell_type": "code",
   "execution_count": 358,
   "metadata": {},
   "outputs": [],
   "source": [
    "import torch\n",
    "import torch.nn.functional as F\n",
    "import torch_geometric.transforms as T\n",
    "from torch_geometric.loader import DenseDataLoader\n",
    "from torch_geometric.loader import DataLoader \n",
    "from torch_geometric.nn import GCNConv, global_max_pool, global_mean_pool, global_add_pool\n",
    "from torch_geometric.utils import dense_to_sparse\n",
    "import math\n",
    "import numpy as np"
   ]
  },
  {
   "cell_type": "code",
   "execution_count": 359,
   "metadata": {},
   "outputs": [],
   "source": [
    "data_dir_1 = 'C:/Users/david/pyproj/pyg/adl/patch_label_1'\n",
    "data_dir_0 = 'C:/Users/david/pyproj/pyg/adl/patch_label_0'\n",
    "#data_dir_1 = 'adl_data_1'\n",
    "#data_dir_0 = 'adl_data_0'"
   ]
  },
  {
   "cell_type": "code",
   "execution_count": 360,
   "metadata": {},
   "outputs": [
    {
     "data": {
      "text/plain": [
       "572"
      ]
     },
     "execution_count": 360,
     "metadata": {},
     "output_type": "execute_result"
    }
   ],
   "source": [
    "from c_PatchDataset_sparse import PatchDataset\n",
    "dataset = PatchDataset(data_dir_label_0 = data_dir_0,  data_dir_label_1=data_dir_1,  neg_pos_ratio=1)\n",
    "len(dataset)"
   ]
  },
  {
   "cell_type": "code",
   "execution_count": 361,
   "metadata": {},
   "outputs": [
    {
     "name": "stdout",
     "output_type": "stream",
     "text": [
      "Number of graphs pairs: 572\n",
      "(Data(x=[100, 3], edge_index=[2, 596], y=1), Data(x=[100, 3], edge_index=[2, 592], y=1))\n"
     ]
    }
   ],
   "source": [
    "print(f'Number of graphs pairs: {len(dataset)}')\n",
    "data = dataset[0]  # Get the first graph object.\n",
    "print(data)"
   ]
  },
  {
   "cell_type": "code",
   "execution_count": 362,
   "metadata": {},
   "outputs": [],
   "source": [
    "graph_dataset= []\n",
    "for data in dataset:\n",
    "    graph_dataset.append(data[0])\n",
    "    graph_dataset.append(data[1])"
   ]
  },
  {
   "cell_type": "code",
   "execution_count": 363,
   "metadata": {},
   "outputs": [],
   "source": [
    "from torch_geometric.data import Data\n",
    "\n",
    "pair_data = []\n",
    "couple_loader = DataLoader(dataset = graph_dataset, batch_size=2, shuffle=False)\n",
    "\n",
    "for couple in couple_loader:\n",
    "    y = couple.y[0].long()\n",
    "    couple_graph = Data(x=couple.x, edge_index=couple.edge_index, y=y, original_batch = couple.batch)\n",
    "    pair_data.append(couple_graph)"
   ]
  },
  {
   "cell_type": "code",
   "execution_count": 364,
   "metadata": {},
   "outputs": [
    {
     "name": "stdout",
     "output_type": "stream",
     "text": [
      "Number of training graphs pairs: 382\n",
      "Number of validation graphs: 95\n",
      "Number of test graphs: 95\n"
     ]
    }
   ],
   "source": [
    "batch_size = 1\n",
    "\n",
    "n_train = math.ceil((4/6) * len(dataset))\n",
    "n_val = math.ceil((len(dataset) - n_train)/2)\n",
    "n_test = len(dataset) - n_train - n_val\n",
    "\n",
    "train_dataset, val_dataset, test_dataset = torch.utils.data.random_split(pair_data, [n_train, n_val, n_test])\n",
    "print(f'Number of training graphs pairs: {len(train_dataset)}')\n",
    "print(f'Number of validation graphs: {len(val_dataset)}')\n",
    "print(f'Number of test graphs: {len(test_dataset)}')\n",
    "\n",
    "train_loader = DataLoader(dataset = train_dataset, batch_size= batch_size, shuffle=True)\n",
    "val_loader = DataLoader(dataset = val_dataset, batch_size= batch_size, shuffle=True)\n",
    "test_loader = DataLoader(dataset = test_dataset, batch_size= batch_size, shuffle=True)"
   ]
  },
  {
   "cell_type": "code",
   "execution_count": 365,
   "metadata": {},
   "outputs": [
    {
     "data": {
      "text/plain": [
       "DataBatch(x=[200, 3], edge_index=[2, 1226], y=[1], original_batch=[200], batch=[200], ptr=[2])"
      ]
     },
     "execution_count": 365,
     "metadata": {},
     "output_type": "execute_result"
    }
   ],
   "source": [
    "databatch = next(iter(train_loader))\n",
    "databatch"
   ]
  },
  {
   "cell_type": "code",
   "execution_count": 366,
   "metadata": {},
   "outputs": [
    {
     "data": {
      "text/plain": [
       "tensor([0, 0, 0, 0, 0, 0, 0, 0, 0, 0, 0, 0, 0, 0, 0, 0, 0, 0, 0, 0, 0, 0, 0, 0,\n",
       "        0, 0, 0, 0, 0, 0, 0, 0, 0, 0, 0, 0, 0, 0, 0, 0, 0, 0, 0, 0, 0, 0, 0, 0,\n",
       "        0, 0, 0, 0, 0, 0, 0, 0, 0, 0, 0, 0, 0, 0, 0, 0, 0, 0, 0, 0, 0, 0, 0, 0,\n",
       "        0, 0, 0, 0, 0, 0, 0, 0, 0, 0, 0, 0, 0, 0, 0, 0, 0, 0, 0, 0, 0, 0, 0, 0,\n",
       "        0, 0, 0, 0, 1, 1, 1, 1, 1, 1, 1, 1, 1, 1, 1, 1, 1, 1, 1, 1, 1, 1, 1, 1,\n",
       "        1, 1, 1, 1, 1, 1, 1, 1, 1, 1, 1, 1, 1, 1, 1, 1, 1, 1, 1, 1, 1, 1, 1, 1,\n",
       "        1, 1, 1, 1, 1, 1, 1, 1, 1, 1, 1, 1, 1, 1, 1, 1, 1, 1, 1, 1, 1, 1, 1, 1,\n",
       "        1, 1, 1, 1, 1, 1, 1, 1, 1, 1, 1, 1, 1, 1, 1, 1, 1, 1, 1, 1, 1, 1, 1, 1,\n",
       "        1, 1, 1, 1, 1, 1, 1, 1])"
      ]
     },
     "execution_count": 366,
     "metadata": {},
     "output_type": "execute_result"
    }
   ],
   "source": [
    "databatch.original_batch"
   ]
  },
  {
   "attachments": {},
   "cell_type": "markdown",
   "metadata": {},
   "source": [
    "### Define Loss Function"
   ]
  },
  {
   "cell_type": "code",
   "execution_count": 367,
   "metadata": {},
   "outputs": [],
   "source": [
    "class ContrastiveLoss(torch.nn.Module):\n",
    "\n",
    "    def __init__(self, margin=1.0):\n",
    "        super(ContrastiveLoss, self).__init__()\n",
    "        self.margin = margin\n",
    "\n",
    "    def forward(self, x0, x1, y):\n",
    "\n",
    "        diff = x0 - x1\n",
    "        pow = torch.pow(diff, 2)\n",
    "        dist_sq = torch.sum(pow, 0)\n",
    "        dist = torch.sqrt(dist_sq) \n",
    "        mdist = self.margin - dist #negative euclidean distance - margin\n",
    "        dist_marg = torch.clamp(mdist, min=0.0) # only distances <margin will be still positive here\n",
    "        loss =  y * torch.pow(dist, 2) + (1-y) * torch.pow(dist_marg,2)\n",
    "        \n",
    "        #             Margin = 1            Margin = 2.0        Margin = 3.0\n",
    "        # dist = 0.2  label 1 --> 0.04      --> 0.04            --> 0.04\n",
    "        # dist = 0.2  label 0 --> 0.64      --> 3.24            --> 7.84\n",
    "        #\n",
    "        # dist = 0.5  label 1 --> 0.25      --> 0.25            --> 0.25\n",
    "        # dist = 0.5  label 0 --> 0.25      --> 2.25            --> 6.25\n",
    "        # \n",
    "        # dist = 1.0  label 1 --> 1.0       --> 1.0             --> 1.0 \n",
    "        # dist = 1.0  label 0 --> 0         --> 1.0             --> 4.0\n",
    "        #\n",
    "        # dist = 1.5  label 1 --> 2.25      --> 2.25            --> 2.25\n",
    "        # dist = 1.5  label 0 --> 0         --> 0.25            --> 2.25\n",
    "        # \n",
    "        # dist = 3    label 1 --> 9         --> 9               --> 9\n",
    "        # dist = 3    label 0 --> 0         --> 0               --> 0\n",
    "\n",
    "        loss = loss / 2.0\n",
    "        return loss"
   ]
  },
  {
   "cell_type": "markdown",
   "metadata": {},
   "source": [
    "### Define Network"
   ]
  },
  {
   "cell_type": "code",
   "execution_count": 368,
   "metadata": {},
   "outputs": [],
   "source": [
    "class GNN(torch.nn.Module):\n",
    "    def __init__(self, in_channels, hidden_channels, out_channels,\n",
    "                 normalize=False, lin=True):\n",
    "        super(GNN, self).__init__()\n",
    "\n",
    "               \n",
    "        self.conv1 = GCNConv(in_channels, hidden_channels, normalize)\n",
    "        self.conv2 = GCNConv(hidden_channels, hidden_channels, normalize)\n",
    "        self.conv3 = GCNConv(hidden_channels, out_channels, normalize)\n",
    "\n",
    "\n",
    "    def forward(self, x, edge_index):\n",
    "        \n",
    "        x = self.conv1(x, edge_index)\n",
    "        x = self.conv2(x, edge_index)\n",
    "        x = self.conv3(x, edge_index)\n",
    "\n",
    "        return x\n",
    "\n",
    "\n",
    "class ConvNet(torch.nn.Module):\n",
    "    def __init__(self):\n",
    "        super(ConvNet, self).__init__()\n",
    "\n",
    "        self.gnn1 = GNN(dataset.num_features, 8, 16)\n",
    "        self.gnn2 = GNN(16, 32, 64, lin=False)\n",
    "        self.gnn3 = GNN(64, 96, 128, lin=False)\n",
    "\n",
    "        self.lin1 = torch.nn.Linear(128, 64) \n",
    "        self.lin2 = torch.nn.Linear(64, 32)\n",
    "        self.lin3 = torch.nn.Linear(32,2)\n",
    "\n",
    "\n",
    "    def forward(self, x, adj, batch):\n",
    "        \n",
    "        x = self.gnn1(x, adj)\n",
    "        x = self.gnn2(x, adj)\n",
    "        x = self.gnn3(x, adj)\n",
    "\n",
    "        #x = global_max_pool(x, batch)\n",
    "        x = global_mean_pool(x, batch)\n",
    "        #x = global_add_pool(x, batch)\n",
    "        x = torch.sum(x, dim = 0)\n",
    "\n",
    "        x = F.relu(self.lin1(x))\n",
    "        x = F.relu(self.lin2(x))\n",
    "        x = self.lin3(x)\n",
    "\n",
    "        log = F.log_softmax(x, dim=-1)\n",
    "\n",
    "        return log"
   ]
  },
  {
   "cell_type": "code",
   "execution_count": 369,
   "metadata": {},
   "outputs": [],
   "source": [
    "def count_parameters(model, trainable=True):\n",
    "    return sum(p.numel() for p in model.parameters() if p.requires_grad or not trainable)"
   ]
  },
  {
   "attachments": {},
   "cell_type": "markdown",
   "metadata": {},
   "source": [
    "### Training"
   ]
  },
  {
   "cell_type": "code",
   "execution_count": 370,
   "metadata": {},
   "outputs": [
    {
     "name": "stdout",
     "output_type": "stream",
     "text": [
      "cpu\n",
      "E001, Train Loss: 0.541, Val Loss: 0.521, Test Loss: 0.573, Train Acc: 0.754, Val Acc: 0.747, Test Acc: 0.695\n",
      "E002, Train Loss: 0.534, Val Loss: 0.507, Test Loss: 0.585, Train Acc: 0.751, Val Acc: 0.758, Test Acc: 0.705\n",
      "E003, Train Loss: 0.534, Val Loss: 0.509, Test Loss: 0.590, Train Acc: 0.751, Val Acc: 0.758, Test Acc: 0.695\n",
      "E004, Train Loss: 0.534, Val Loss: 0.512, Test Loss: 0.577, Train Acc: 0.757, Val Acc: 0.758, Test Acc: 0.684\n",
      "E005, Train Loss: 0.533, Val Loss: 0.510, Test Loss: 0.575, Train Acc: 0.751, Val Acc: 0.758, Test Acc: 0.695\n",
      "E006, Train Loss: 0.532, Val Loss: 0.506, Test Loss: 0.573, Train Acc: 0.757, Val Acc: 0.758, Test Acc: 0.695\n",
      "E007, Train Loss: 0.532, Val Loss: 0.504, Test Loss: 0.585, Train Acc: 0.751, Val Acc: 0.758, Test Acc: 0.705\n",
      "E008, Train Loss: 0.530, Val Loss: 0.504, Test Loss: 0.581, Train Acc: 0.754, Val Acc: 0.758, Test Acc: 0.695\n",
      "E009, Train Loss: 0.533, Val Loss: 0.501, Test Loss: 0.570, Train Acc: 0.754, Val Acc: 0.758, Test Acc: 0.726\n",
      "E010, Train Loss: 0.530, Val Loss: 0.501, Test Loss: 0.577, Train Acc: 0.754, Val Acc: 0.758, Test Acc: 0.716\n",
      "E011, Train Loss: 0.532, Val Loss: 0.507, Test Loss: 0.570, Train Acc: 0.754, Val Acc: 0.758, Test Acc: 0.695\n",
      "E012, Train Loss: 0.536, Val Loss: 0.517, Test Loss: 0.592, Train Acc: 0.749, Val Acc: 0.768, Test Acc: 0.684\n",
      "E013, Train Loss: 0.536, Val Loss: 0.499, Test Loss: 0.593, Train Acc: 0.749, Val Acc: 0.768, Test Acc: 0.726\n",
      "E014, Train Loss: 0.529, Val Loss: 0.501, Test Loss: 0.585, Train Acc: 0.754, Val Acc: 0.747, Test Acc: 0.695\n",
      "E015, Train Loss: 0.533, Val Loss: 0.509, Test Loss: 0.571, Train Acc: 0.762, Val Acc: 0.747, Test Acc: 0.695\n",
      "E016, Train Loss: 0.528, Val Loss: 0.500, Test Loss: 0.578, Train Acc: 0.754, Val Acc: 0.747, Test Acc: 0.695\n",
      "E017, Train Loss: 0.531, Val Loss: 0.505, Test Loss: 0.569, Train Acc: 0.754, Val Acc: 0.747, Test Acc: 0.695\n",
      "E018, Train Loss: 0.530, Val Loss: 0.504, Test Loss: 0.572, Train Acc: 0.757, Val Acc: 0.747, Test Acc: 0.695\n",
      "E019, Train Loss: 0.529, Val Loss: 0.505, Test Loss: 0.574, Train Acc: 0.751, Val Acc: 0.747, Test Acc: 0.695\n",
      "E020, Train Loss: 0.529, Val Loss: 0.499, Test Loss: 0.588, Train Acc: 0.754, Val Acc: 0.747, Test Acc: 0.695\n",
      "E021, Train Loss: 0.527, Val Loss: 0.497, Test Loss: 0.582, Train Acc: 0.751, Val Acc: 0.747, Test Acc: 0.695\n",
      "E022, Train Loss: 0.530, Val Loss: 0.499, Test Loss: 0.565, Train Acc: 0.754, Val Acc: 0.758, Test Acc: 0.695\n",
      "E023, Train Loss: 0.534, Val Loss: 0.510, Test Loss: 0.576, Train Acc: 0.749, Val Acc: 0.768, Test Acc: 0.684\n",
      "E024, Train Loss: 0.527, Val Loss: 0.495, Test Loss: 0.574, Train Acc: 0.754, Val Acc: 0.758, Test Acc: 0.695\n",
      "E025, Train Loss: 0.530, Val Loss: 0.507, Test Loss: 0.574, Train Acc: 0.746, Val Acc: 0.768, Test Acc: 0.684\n",
      "E026, Train Loss: 0.527, Val Loss: 0.495, Test Loss: 0.577, Train Acc: 0.754, Val Acc: 0.758, Test Acc: 0.695\n",
      "E027, Train Loss: 0.526, Val Loss: 0.497, Test Loss: 0.572, Train Acc: 0.754, Val Acc: 0.747, Test Acc: 0.695\n",
      "E028, Train Loss: 0.527, Val Loss: 0.498, Test Loss: 0.571, Train Acc: 0.754, Val Acc: 0.747, Test Acc: 0.695\n",
      "E029, Train Loss: 0.528, Val Loss: 0.494, Test Loss: 0.568, Train Acc: 0.751, Val Acc: 0.768, Test Acc: 0.716\n",
      "E030, Train Loss: 0.526, Val Loss: 0.499, Test Loss: 0.579, Train Acc: 0.764, Val Acc: 0.747, Test Acc: 0.695\n",
      "E031, Train Loss: 0.528, Val Loss: 0.495, Test Loss: 0.566, Train Acc: 0.751, Val Acc: 0.768, Test Acc: 0.716\n",
      "E032, Train Loss: 0.526, Val Loss: 0.498, Test Loss: 0.583, Train Acc: 0.757, Val Acc: 0.747, Test Acc: 0.695\n",
      "E033, Train Loss: 0.528, Val Loss: 0.502, Test Loss: 0.568, Train Acc: 0.754, Val Acc: 0.747, Test Acc: 0.684\n",
      "E034, Train Loss: 0.528, Val Loss: 0.505, Test Loss: 0.577, Train Acc: 0.749, Val Acc: 0.768, Test Acc: 0.684\n",
      "E035, Train Loss: 0.527, Val Loss: 0.492, Test Loss: 0.570, Train Acc: 0.749, Val Acc: 0.768, Test Acc: 0.716\n",
      "E036, Train Loss: 0.527, Val Loss: 0.497, Test Loss: 0.566, Train Acc: 0.757, Val Acc: 0.747, Test Acc: 0.695\n",
      "E037, Train Loss: 0.525, Val Loss: 0.497, Test Loss: 0.573, Train Acc: 0.757, Val Acc: 0.747, Test Acc: 0.695\n",
      "E038, Train Loss: 0.527, Val Loss: 0.492, Test Loss: 0.577, Train Acc: 0.751, Val Acc: 0.768, Test Acc: 0.716\n",
      "E039, Train Loss: 0.532, Val Loss: 0.503, Test Loss: 0.604, Train Acc: 0.762, Val Acc: 0.747, Test Acc: 0.695\n",
      "E040, Train Loss: 0.531, Val Loss: 0.508, Test Loss: 0.569, Train Acc: 0.751, Val Acc: 0.768, Test Acc: 0.684\n",
      "E041, Train Loss: 0.530, Val Loss: 0.502, Test Loss: 0.564, Train Acc: 0.751, Val Acc: 0.747, Test Acc: 0.684\n",
      "E042, Train Loss: 0.531, Val Loss: 0.511, Test Loss: 0.597, Train Acc: 0.751, Val Acc: 0.768, Test Acc: 0.684\n",
      "E043, Train Loss: 0.528, Val Loss: 0.505, Test Loss: 0.569, Train Acc: 0.751, Val Acc: 0.768, Test Acc: 0.684\n",
      "E044, Train Loss: 0.525, Val Loss: 0.499, Test Loss: 0.577, Train Acc: 0.754, Val Acc: 0.747, Test Acc: 0.684\n",
      "E045, Train Loss: 0.528, Val Loss: 0.506, Test Loss: 0.570, Train Acc: 0.754, Val Acc: 0.768, Test Acc: 0.684\n",
      "E046, Train Loss: 0.525, Val Loss: 0.495, Test Loss: 0.566, Train Acc: 0.757, Val Acc: 0.747, Test Acc: 0.695\n",
      "E047, Train Loss: 0.528, Val Loss: 0.495, Test Loss: 0.589, Train Acc: 0.754, Val Acc: 0.747, Test Acc: 0.695\n",
      "E048, Train Loss: 0.528, Val Loss: 0.495, Test Loss: 0.562, Train Acc: 0.749, Val Acc: 0.768, Test Acc: 0.695\n",
      "E049, Train Loss: 0.535, Val Loss: 0.503, Test Loss: 0.609, Train Acc: 0.754, Val Acc: 0.747, Test Acc: 0.695\n",
      "E050, Train Loss: 0.539, Val Loss: 0.498, Test Loss: 0.596, Train Acc: 0.746, Val Acc: 0.768, Test Acc: 0.726\n"
     ]
    }
   ],
   "source": [
    "device = torch.device('cuda' if torch.cuda.is_available() else 'cpu')\n",
    "print(device)\n",
    "model = ConvNet().to(device)\n",
    "criterion = ContrastiveLoss()\n",
    "optimizer = torch.optim.Adam(model.parameters(), lr=0.0001)\n",
    "\n",
    "\n",
    "\n",
    "def train(epoch):\n",
    "    model.train()\n",
    "    loss_all = 0\n",
    "    for data in train_loader:\n",
    "        data = data.to(device)\n",
    "        optimizer.zero_grad()\n",
    "        output = model(data.x, data.edge_index, data.original_batch)\n",
    "        output = torch.unsqueeze(output, 0)\n",
    "\n",
    "        loss = F.nll_loss(output, data.y.view(-1))\n",
    "        loss.backward()\n",
    "        loss_all += data.y.size(0) * loss.item()\n",
    "        optimizer.step()\n",
    "\n",
    "    return loss_all / len(train_dataset)\n",
    "\n",
    "\n",
    "\n",
    "@torch.no_grad()\n",
    "def test(loader):\n",
    "    model.eval()\n",
    "    test_loss_all = 0\n",
    "    correct = 0\n",
    "\n",
    "    for data in loader:\n",
    "        data = data.to(device)\n",
    "        output = model(data.x, data.edge_index, data.original_batch)\n",
    "        output = torch.unsqueeze(output, 0)\n",
    "\n",
    "        # Compute Accuracy\n",
    "        pred = output.max(dim=1)[1]\n",
    "        correct += pred.eq(data.y.view(-1)).sum().item()\n",
    "\n",
    "        # Compute Loss\n",
    "        test_loss = F.nll_loss(output, data.y.view(-1))\n",
    "        test_loss_all += data.y.size(0) * test_loss.item()      \n",
    "\n",
    "    return  correct / len(loader.dataset), test_loss_all / len(loader.dataset)\n",
    "\n",
    "\n",
    "\n",
    "tr_loss = []\n",
    "tr_acc = []\n",
    "v_loss = []\n",
    "v_acc = []\n",
    "tst_loss = []\n",
    "tst_acc = []\n",
    "\n",
    "min_val_loss = 100\n",
    "\n",
    "parameters = count_parameters(model)\n",
    "with open(f'{model_name}_output.txt', 'w') as f:\n",
    "    f.write(f'Training Data ({model_name}):\\n')\n",
    "    f.write(f'Number of Parameters: {parameters}\\n')\n",
    "    f.close()\n",
    "\n",
    "\n",
    "for epoch in range(1,num_epochs+1):\n",
    "    \n",
    "    loss = train(epoch)\n",
    "    #tr_loss.append(train_loss)\n",
    "\n",
    "    train_acc, train_loss = test(train_loader)\n",
    "    tr_loss.append(train_loss)\n",
    "    tr_acc.append(train_acc)\n",
    "\n",
    "    val_acc, val_loss = test(val_loader)\n",
    "    v_loss.append(val_loss)\n",
    "    v_acc.append(val_acc)\n",
    "\n",
    "    test_acc, test_loss = test(test_loader)\n",
    "    tst_loss.append(test_loss)\n",
    "    tst_acc.append(test_acc)\n",
    "\n",
    "    printout = (f'E{epoch:03d}, Train Loss: {train_loss:.3f}, Val Loss: {val_loss:.3f}, Test Loss: {test_loss:.3f}, '\n",
    "         f'Train Acc: {train_acc:.3f}, Val Acc: {val_acc:.3f}, Test Acc: {test_acc:.3f}')\n",
    "    \n",
    "    # append to outputs txt\n",
    "    with open(f'{model_name}_output.txt', 'a') as f:\n",
    "        f.write(printout + '\\n')\n",
    "        f.close()\n",
    "\n",
    "    print(printout)\n",
    "\n",
    "    # Save the model outputs\n",
    "    np.save(f'{model_name}_training_loss.npy', tr_loss, allow_pickle=True)\n",
    "    np.save(f'{model_name}_training_accuracy.npy', tr_acc, allow_pickle=True)\n",
    "\n",
    "    np.save(f'{model_name}_validation_loss.npy', v_loss, allow_pickle=True)\n",
    "    np.save(f'{model_name}_validation_accuracy.npy', v_acc, allow_pickle=True)\n",
    "\n",
    "    np.save(f'{model_name}_test_loss.npy', tst_loss, allow_pickle=True)\n",
    "    np.save(f'{model_name}_test_accuracy.npy', tst_acc, allow_pickle=True)\n",
    "\n",
    "    last_saved_epoch = epoch\n",
    "\n",
    "\n",
    "    # If the epoch has improved the model, save it\n",
    "    if (val_loss + test_loss)/2 < min_val_loss:\n",
    "        new_best = True\n",
    "        min_val_loss = (val_loss + test_loss)/2\n",
    "        best_epoch = epoch\n",
    "    else:\n",
    "        new_best = False\n",
    "\n",
    "    if new_best:\n",
    "        torch.save(model.state_dict(), f'{model_name}_state_dict_best.pt')\n",
    "        torch.save(model, f'{model_name}_best.pt')\n",
    "\n",
    "   \n",
    "    \n"
   ]
  },
  {
   "attachments": {},
   "cell_type": "markdown",
   "metadata": {},
   "source": [
    "### Evaluation"
   ]
  },
  {
   "cell_type": "code",
   "execution_count": 371,
   "metadata": {},
   "outputs": [],
   "source": [
    "import numpy as np\n",
    "training_loss = np.load(f'{model_name}_training_loss.npy', allow_pickle=True)\n",
    "training_accuracy = np.load(f'{model_name}_training_accuracy.npy', allow_pickle=True)\n",
    "\n",
    "validation_loss = np.load(f'{model_name}_validation_loss.npy', allow_pickle=True)\n",
    "validation_accuracy = np.load(f'{model_name}_validation_accuracy.npy', allow_pickle=True)\n",
    "\n",
    "test_loss = np.load(f'{model_name}_test_loss.npy', allow_pickle=True)\n",
    "test_accuracy = np.load(f'{model_name}_test_accuracy.npy', allow_pickle=True)"
   ]
  },
  {
   "cell_type": "code",
   "execution_count": 372,
   "metadata": {},
   "outputs": [
    {
     "data": {
      "image/png": "[encoded data removed]",
      "text/plain": [
       "<Figure size 640x480 with 1 Axes>"
      ]
     },
     "metadata": {},
     "output_type": "display_data"
    }
   ],
   "source": [
    "import matplotlib.pyplot as plt\n",
    "\n",
    "# Generate a sequence of integers to represent the epoch numbers\n",
    "epochs = range(1, last_saved_epoch+1)\n",
    " \n",
    "# Plot and label the training and validation loss values\n",
    "plt.plot(epochs, training_loss, label='Training Loss')\n",
    "plt.plot(epochs, validation_loss, label='Validation Loss')\n",
    " \n",
    "# Add in a title and axes labels\n",
    "plt.title('Training and Validation Loss')\n",
    "plt.xlabel('Epochs')\n",
    "plt.ylabel('Loss')\n",
    " \n",
    "# Set the tick locations\n",
    "plt.xticks(np.arange(0, last_saved_epoch+1, last_saved_epoch/10))\n",
    " \n",
    "# Display the plot\n",
    "plt.legend(loc='best')\n",
    "plt.savefig(f'{model_name}_plot_loss.png')\n",
    "plt.show()"
   ]
  },
  {
   "cell_type": "code",
   "execution_count": 373,
   "metadata": {},
   "outputs": [
    {
     "data": {
      "image/png": "[encoded data removed]",
      "text/plain": [
       "<Figure size 640x480 with 1 Axes>"
      ]
     },
     "metadata": {},
     "output_type": "display_data"
    }
   ],
   "source": [
    "import matplotlib.pyplot as plt\n",
    "\n",
    "# Generate a sequence of integers to represent the epoch numbers\n",
    "epochs = range(1, last_saved_epoch+1)\n",
    " \n",
    "# Plot and label the training and validation loss values\n",
    "plt.plot(epochs, training_accuracy, label='Training Accuracy')\n",
    "plt.plot(epochs, validation_accuracy, label='Validation Accuracy')\n",
    "plt.plot(epochs, test_accuracy, label='Test Accuracy')\n",
    " \n",
    "# Add in a title and axes labels\n",
    "plt.title('Accuracy vs. Epochs')\n",
    "plt.xlabel('Epochs')\n",
    "plt.ylabel('Accuracy')\n",
    " \n",
    "# Set the tick locations\n",
    "plt.xticks(np.arange(0, last_saved_epoch+1, last_saved_epoch/10))\n",
    "plt.ylim(0,1)\n",
    " \n",
    "# Display the plot\n",
    "plt.legend(loc='best')\n",
    "plt.savefig(f'{model_name}_Accuracy vs. Epochs.png')\n",
    "plt.show()"
   ]
  }
 ],
 "metadata": {
  "kernelspec": {
   "display_name": "pyg_env",
   "language": "python",
   "name": "python3"
  },
  "language_info": {
   "codemirror_mode": {
    "name": "ipython",
    "version": 3
   },
   "file_extension": ".py",
   "mimetype": "text/x-python",
   "name": "python",
   "nbconvert_exporter": "python",
   "pygments_lexer": "ipython3",
   "version": "3.9.13"
  },
  "orig_nbformat": 4,
  "vscode": {
   "interpreter": {
    "hash": "5295f743bc4e47f7cb4c7d5e484c5cf6bb52e824ff35c3fecf2642e2b62ae0ab"
   }
  }
 },
 "nbformat": 4,
 "nbformat_minor": 2
}
